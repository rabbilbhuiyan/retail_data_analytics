{
 "cells": [
  {
   "cell_type": "markdown",
   "metadata": {},
   "source": [
    "### Analytics of retailer data\n",
    "- Exploratroy data analysis : data insights\n",
    "- Exploring whether holiday affects the sale\n",
    "- Forecasting the sales for a specific period of time"
   ]
  },
  {
   "cell_type": "code",
   "execution_count": 1,
   "metadata": {},
   "outputs": [],
   "source": [
    "## Importing necessary libraries\n",
    "import pandas as pd\n",
    "import numpy as np\n",
    "import matplotlib.pyplot as plt \n",
    "import seaborn as sns"
   ]
  },
  {
   "cell_type": "code",
   "execution_count": 3,
   "metadata": {},
   "outputs": [],
   "source": [
    "# Loading the dataset\n",
    "df_stores = pd.read_csv('./retaildataset/stores data-set.csv')\n",
    "df_features = pd.read_csv('./retaildataset/Features data set.csv', parse_dates = ['Date'])\n",
    "df_sales = pd.read_csv('./retaildataset/sales data-set.csv', parse_dates = ['Date'])"
   ]
  },
  {
   "cell_type": "code",
   "execution_count": 4,
   "metadata": {},
   "outputs": [],
   "source": [
    "# Cleaning and processing the data"
   ]
  },
  {
   "cell_type": "code",
   "execution_count": 8,
   "metadata": {},
   "outputs": [
    {
     "data": {
      "text/html": [
       "<div>\n",
       "<style scoped>\n",
       "    .dataframe tbody tr th:only-of-type {\n",
       "        vertical-align: middle;\n",
       "    }\n",
       "\n",
       "    .dataframe tbody tr th {\n",
       "        vertical-align: top;\n",
       "    }\n",
       "\n",
       "    .dataframe thead th {\n",
       "        text-align: right;\n",
       "    }\n",
       "</style>\n",
       "<table border=\"1\" class=\"dataframe\">\n",
       "  <thead>\n",
       "    <tr style=\"text-align: right;\">\n",
       "      <th></th>\n",
       "      <th>Store</th>\n",
       "      <th>Dept</th>\n",
       "      <th>Date</th>\n",
       "      <th>Weekly_Sales</th>\n",
       "      <th>IsHoliday</th>\n",
       "    </tr>\n",
       "  </thead>\n",
       "  <tbody>\n",
       "    <tr>\n",
       "      <th>0</th>\n",
       "      <td>1</td>\n",
       "      <td>1</td>\n",
       "      <td>2010-05-02</td>\n",
       "      <td>24924.50</td>\n",
       "      <td>False</td>\n",
       "    </tr>\n",
       "    <tr>\n",
       "      <th>1</th>\n",
       "      <td>1</td>\n",
       "      <td>1</td>\n",
       "      <td>2010-12-02</td>\n",
       "      <td>46039.49</td>\n",
       "      <td>True</td>\n",
       "    </tr>\n",
       "    <tr>\n",
       "      <th>2</th>\n",
       "      <td>1</td>\n",
       "      <td>1</td>\n",
       "      <td>2010-02-19</td>\n",
       "      <td>41595.55</td>\n",
       "      <td>False</td>\n",
       "    </tr>\n",
       "    <tr>\n",
       "      <th>3</th>\n",
       "      <td>1</td>\n",
       "      <td>1</td>\n",
       "      <td>2010-02-26</td>\n",
       "      <td>19403.54</td>\n",
       "      <td>False</td>\n",
       "    </tr>\n",
       "    <tr>\n",
       "      <th>4</th>\n",
       "      <td>1</td>\n",
       "      <td>1</td>\n",
       "      <td>2010-05-03</td>\n",
       "      <td>21827.90</td>\n",
       "      <td>False</td>\n",
       "    </tr>\n",
       "  </tbody>\n",
       "</table>\n",
       "</div>"
      ],
      "text/plain": [
       "   Store  Dept       Date  Weekly_Sales  IsHoliday\n",
       "0      1     1 2010-05-02      24924.50      False\n",
       "1      1     1 2010-12-02      46039.49       True\n",
       "2      1     1 2010-02-19      41595.55      False\n",
       "3      1     1 2010-02-26      19403.54      False\n",
       "4      1     1 2010-05-03      21827.90      False"
      ]
     },
     "execution_count": 8,
     "metadata": {},
     "output_type": "execute_result"
    }
   ],
   "source": [
    "df_sales.head()"
   ]
  },
  {
   "cell_type": "code",
   "execution_count": 10,
   "metadata": {},
   "outputs": [
    {
     "data": {
      "text/plain": [
       "Store           0\n",
       "Dept            0\n",
       "Date            0\n",
       "Weekly_Sales    0\n",
       "IsHoliday       0\n",
       "dtype: int64"
      ]
     },
     "execution_count": 10,
     "metadata": {},
     "output_type": "execute_result"
    }
   ],
   "source": [
    "df_sales.isna().sum()"
   ]
  },
  {
   "cell_type": "code",
   "execution_count": 6,
   "metadata": {},
   "outputs": [
    {
     "name": "stdout",
     "output_type": "stream",
     "text": [
      "<class 'pandas.core.frame.DataFrame'>\n",
      "RangeIndex: 421570 entries, 0 to 421569\n",
      "Data columns (total 5 columns):\n",
      " #   Column        Non-Null Count   Dtype         \n",
      "---  ------        --------------   -----         \n",
      " 0   Store         421570 non-null  int64         \n",
      " 1   Dept          421570 non-null  int64         \n",
      " 2   Date          421570 non-null  datetime64[ns]\n",
      " 3   Weekly_Sales  421570 non-null  float64       \n",
      " 4   IsHoliday     421570 non-null  bool          \n",
      "dtypes: bool(1), datetime64[ns](1), float64(1), int64(2)\n",
      "memory usage: 13.3 MB\n"
     ]
    }
   ],
   "source": [
    "df_sales.info()"
   ]
  },
  {
   "cell_type": "code",
   "execution_count": 7,
   "metadata": {},
   "outputs": [
    {
     "data": {
      "text/html": [
       "<div>\n",
       "<style scoped>\n",
       "    .dataframe tbody tr th:only-of-type {\n",
       "        vertical-align: middle;\n",
       "    }\n",
       "\n",
       "    .dataframe tbody tr th {\n",
       "        vertical-align: top;\n",
       "    }\n",
       "\n",
       "    .dataframe thead th {\n",
       "        text-align: right;\n",
       "    }\n",
       "</style>\n",
       "<table border=\"1\" class=\"dataframe\">\n",
       "  <thead>\n",
       "    <tr style=\"text-align: right;\">\n",
       "      <th></th>\n",
       "      <th>Store</th>\n",
       "      <th>Date</th>\n",
       "      <th>Temperature</th>\n",
       "      <th>Fuel_Price</th>\n",
       "      <th>MarkDown1</th>\n",
       "      <th>MarkDown2</th>\n",
       "      <th>MarkDown3</th>\n",
       "      <th>MarkDown4</th>\n",
       "      <th>MarkDown5</th>\n",
       "      <th>CPI</th>\n",
       "      <th>Unemployment</th>\n",
       "      <th>IsHoliday</th>\n",
       "    </tr>\n",
       "  </thead>\n",
       "  <tbody>\n",
       "    <tr>\n",
       "      <th>0</th>\n",
       "      <td>1</td>\n",
       "      <td>2010-05-02</td>\n",
       "      <td>42.31</td>\n",
       "      <td>2.572</td>\n",
       "      <td>NaN</td>\n",
       "      <td>NaN</td>\n",
       "      <td>NaN</td>\n",
       "      <td>NaN</td>\n",
       "      <td>NaN</td>\n",
       "      <td>211.096358</td>\n",
       "      <td>8.106</td>\n",
       "      <td>False</td>\n",
       "    </tr>\n",
       "    <tr>\n",
       "      <th>1</th>\n",
       "      <td>1</td>\n",
       "      <td>2010-12-02</td>\n",
       "      <td>38.51</td>\n",
       "      <td>2.548</td>\n",
       "      <td>NaN</td>\n",
       "      <td>NaN</td>\n",
       "      <td>NaN</td>\n",
       "      <td>NaN</td>\n",
       "      <td>NaN</td>\n",
       "      <td>211.242170</td>\n",
       "      <td>8.106</td>\n",
       "      <td>True</td>\n",
       "    </tr>\n",
       "    <tr>\n",
       "      <th>2</th>\n",
       "      <td>1</td>\n",
       "      <td>2010-02-19</td>\n",
       "      <td>39.93</td>\n",
       "      <td>2.514</td>\n",
       "      <td>NaN</td>\n",
       "      <td>NaN</td>\n",
       "      <td>NaN</td>\n",
       "      <td>NaN</td>\n",
       "      <td>NaN</td>\n",
       "      <td>211.289143</td>\n",
       "      <td>8.106</td>\n",
       "      <td>False</td>\n",
       "    </tr>\n",
       "    <tr>\n",
       "      <th>3</th>\n",
       "      <td>1</td>\n",
       "      <td>2010-02-26</td>\n",
       "      <td>46.63</td>\n",
       "      <td>2.561</td>\n",
       "      <td>NaN</td>\n",
       "      <td>NaN</td>\n",
       "      <td>NaN</td>\n",
       "      <td>NaN</td>\n",
       "      <td>NaN</td>\n",
       "      <td>211.319643</td>\n",
       "      <td>8.106</td>\n",
       "      <td>False</td>\n",
       "    </tr>\n",
       "    <tr>\n",
       "      <th>4</th>\n",
       "      <td>1</td>\n",
       "      <td>2010-05-03</td>\n",
       "      <td>46.50</td>\n",
       "      <td>2.625</td>\n",
       "      <td>NaN</td>\n",
       "      <td>NaN</td>\n",
       "      <td>NaN</td>\n",
       "      <td>NaN</td>\n",
       "      <td>NaN</td>\n",
       "      <td>211.350143</td>\n",
       "      <td>8.106</td>\n",
       "      <td>False</td>\n",
       "    </tr>\n",
       "  </tbody>\n",
       "</table>\n",
       "</div>"
      ],
      "text/plain": [
       "   Store       Date  Temperature  Fuel_Price  MarkDown1  MarkDown2  MarkDown3  \\\n",
       "0      1 2010-05-02        42.31       2.572        NaN        NaN        NaN   \n",
       "1      1 2010-12-02        38.51       2.548        NaN        NaN        NaN   \n",
       "2      1 2010-02-19        39.93       2.514        NaN        NaN        NaN   \n",
       "3      1 2010-02-26        46.63       2.561        NaN        NaN        NaN   \n",
       "4      1 2010-05-03        46.50       2.625        NaN        NaN        NaN   \n",
       "\n",
       "   MarkDown4  MarkDown5         CPI  Unemployment  IsHoliday  \n",
       "0        NaN        NaN  211.096358         8.106      False  \n",
       "1        NaN        NaN  211.242170         8.106       True  \n",
       "2        NaN        NaN  211.289143         8.106      False  \n",
       "3        NaN        NaN  211.319643         8.106      False  \n",
       "4        NaN        NaN  211.350143         8.106      False  "
      ]
     },
     "execution_count": 7,
     "metadata": {},
     "output_type": "execute_result"
    }
   ],
   "source": [
    "df_features.head()"
   ]
  },
  {
   "cell_type": "code",
   "execution_count": 16,
   "metadata": {},
   "outputs": [
    {
     "name": "stdout",
     "output_type": "stream",
     "text": [
      "(8190, 12)\n"
     ]
    },
    {
     "data": {
      "text/plain": [
       "Store              0\n",
       "Date               0\n",
       "Temperature        0\n",
       "Fuel_Price         0\n",
       "MarkDown1       4158\n",
       "MarkDown2       5269\n",
       "MarkDown3       4577\n",
       "MarkDown4       4726\n",
       "MarkDown5       4140\n",
       "CPI              585\n",
       "Unemployment     585\n",
       "IsHoliday          0\n",
       "dtype: int64"
      ]
     },
     "execution_count": 16,
     "metadata": {},
     "output_type": "execute_result"
    }
   ],
   "source": [
    "print(df_features.shape)\n",
    "df_features.isna().sum()"
   ]
  },
  {
   "cell_type": "code",
   "execution_count": 13,
   "metadata": {},
   "outputs": [
    {
     "data": {
      "text/plain": [
       "<AxesSubplot:>"
      ]
     },
     "execution_count": 13,
     "metadata": {},
     "output_type": "execute_result"
    },
    {
     "data": {
      "image/png": "[encoded data removed]",
      "text/plain": [
       "<Figure size 432x288 with 1 Axes>"
      ]
     },
     "metadata": {
      "needs_background": "light"
     },
     "output_type": "display_data"
    }
   ],
   "source": [
    "df_features.Unemployment.plot()"
   ]
  },
  {
   "cell_type": "code",
   "execution_count": 14,
   "metadata": {},
   "outputs": [
    {
     "data": {
      "text/plain": [
       "<AxesSubplot:>"
      ]
     },
     "execution_count": 14,
     "metadata": {},
     "output_type": "execute_result"
    },
    {
     "data": {
      "image/png": "[encoded data removed]",
      "text/plain": [
       "<Figure size 432x288 with 1 Axes>"
      ]
     },
     "metadata": {
      "needs_background": "light"
     },
     "output_type": "display_data"
    }
   ],
   "source": [
    "df_features.CPI.plot()"
   ]
  },
  {
   "cell_type": "code",
   "execution_count": 15,
   "metadata": {},
   "outputs": [
    {
     "data": {
      "text/plain": [
       "<AxesSubplot:>"
      ]
     },
     "execution_count": 15,
     "metadata": {},
     "output_type": "execute_result"
    },
    {
     "data": {
      "image/png": "[encoded data removed]",
      "text/plain": [
       "<Figure size 432x288 with 1 Axes>"
      ]
     },
     "metadata": {
      "needs_background": "light"
     },
     "output_type": "display_data"
    }
   ],
   "source": [
    "df_features[df_features.Store == 20].CPI.plot()"
   ]
  },
  {
   "cell_type": "markdown",
   "metadata": {},
   "source": [
    "Not wise to impute in missing values for the markdown columns as they have a lot of missing values. Considering only about 5% of CPI and Unemployment values are missing, we can look to impute in the missing values."
   ]
  },
  {
   "cell_type": "code",
   "execution_count": 17,
   "metadata": {},
   "outputs": [],
   "source": [
    "# Filling the missing value\n",
    "for i in range(1,46):\n",
    "    df_features[df_features.Store == i]= df_features[df_features.Store == i].interpolate()"
   ]
  },
  {
   "cell_type": "code",
   "execution_count": 18,
   "metadata": {},
   "outputs": [
    {
     "data": {
      "text/plain": [
       "<AxesSubplot:>"
      ]
     },
     "execution_count": 18,
     "metadata": {},
     "output_type": "execute_result"
    },
    {
     "data": {
      "image/png": "[encoded data removed]",
      "text/plain": [
       "<Figure size 432x288 with 1 Axes>"
      ]
     },
     "metadata": {
      "needs_background": "light"
     },
     "output_type": "display_data"
    }
   ],
   "source": [
    "# Plotting after filling the missing value\n",
    "df_features[df_features.Store == 20].CPI.plot()"
   ]
  },
  {
   "cell_type": "code",
   "execution_count": 19,
   "metadata": {},
   "outputs": [
    {
     "data": {
      "text/plain": [
       "Store              0\n",
       "Date               0\n",
       "Temperature        0\n",
       "Fuel_Price         0\n",
       "MarkDown1       4140\n",
       "MarkDown2       4140\n",
       "MarkDown3       4143\n",
       "MarkDown4       4188\n",
       "MarkDown5       4140\n",
       "CPI                0\n",
       "Unemployment       0\n",
       "IsHoliday          0\n",
       "dtype: int64"
      ]
     },
     "execution_count": 19,
     "metadata": {},
     "output_type": "execute_result"
    }
   ],
   "source": [
    "# checking the NaN value again\n",
    "df_features.isna().sum()"
   ]
  },
  {
   "cell_type": "code",
   "execution_count": 20,
   "metadata": {},
   "outputs": [
    {
     "data": {
      "text/plain": [
       "Store           0\n",
       "Date            0\n",
       "Temperature     0\n",
       "Fuel_Price      0\n",
       "MarkDown1       0\n",
       "MarkDown2       0\n",
       "MarkDown3       0\n",
       "MarkDown4       0\n",
       "MarkDown5       0\n",
       "CPI             0\n",
       "Unemployment    0\n",
       "IsHoliday       0\n",
       "dtype: int64"
      ]
     },
     "execution_count": 20,
     "metadata": {},
     "output_type": "execute_result"
    }
   ],
   "source": [
    "# Filling the NaN value with zero for MarkDown columns\n",
    "df_features[df_features.columns[4:9]] = df_features[df_features.columns[4:9]].fillna(0)\n",
    "\n",
    "df_features.isna().sum()"
   ]
  },
  {
   "cell_type": "code",
   "execution_count": 65,
   "metadata": {},
   "outputs": [
    {
     "data": {
      "text/plain": [
       "Timestamp('2013-12-07 00:00:00')"
      ]
     },
     "execution_count": 65,
     "metadata": {},
     "output_type": "execute_result"
    }
   ],
   "source": [
    "# Printing the data duration \n",
    "df_sales.Date.max()\n",
    "df_features.Date.max()"
   ]
  },
  {
   "cell_type": "code",
   "execution_count": 60,
   "metadata": {},
   "outputs": [
    {
     "name": "stdout",
     "output_type": "stream",
     "text": [
      "2010-01-10 00:00:00\n",
      "2013-12-07 00:00:00\n"
     ]
    }
   ],
   "source": [
    "print(df_features.Date.min())\n",
    "print(df_features.Date.max())"
   ]
  },
  {
   "cell_type": "markdown",
   "metadata": {},
   "source": [
    "### Merging the dataframes"
   ]
  },
  {
   "cell_type": "markdown",
   "metadata": {},
   "source": [
    "Merging features and sales on column columns (Date, Store and IsHoliday) coupled with a right join on sales. This is because sales has data till 2012 but features has data till 2013 so let's train our model on the data till 2012 and forecast the 2013 data."
   ]
  },
  {
   "cell_type": "code",
   "execution_count": 21,
   "metadata": {},
   "outputs": [
    {
     "data": {
      "text/html": [
       "<div>\n",
       "<style scoped>\n",
       "    .dataframe tbody tr th:only-of-type {\n",
       "        vertical-align: middle;\n",
       "    }\n",
       "\n",
       "    .dataframe tbody tr th {\n",
       "        vertical-align: top;\n",
       "    }\n",
       "\n",
       "    .dataframe thead th {\n",
       "        text-align: right;\n",
       "    }\n",
       "</style>\n",
       "<table border=\"1\" class=\"dataframe\">\n",
       "  <thead>\n",
       "    <tr style=\"text-align: right;\">\n",
       "      <th></th>\n",
       "      <th>Store</th>\n",
       "      <th>Date</th>\n",
       "      <th>Temperature</th>\n",
       "      <th>Fuel_Price</th>\n",
       "      <th>MarkDown1</th>\n",
       "      <th>MarkDown2</th>\n",
       "      <th>MarkDown3</th>\n",
       "      <th>MarkDown4</th>\n",
       "      <th>MarkDown5</th>\n",
       "      <th>CPI</th>\n",
       "      <th>Unemployment</th>\n",
       "      <th>IsHoliday</th>\n",
       "      <th>Dept</th>\n",
       "      <th>Weekly_Sales</th>\n",
       "    </tr>\n",
       "  </thead>\n",
       "  <tbody>\n",
       "    <tr>\n",
       "      <th>0</th>\n",
       "      <td>1</td>\n",
       "      <td>2010-05-02</td>\n",
       "      <td>42.31</td>\n",
       "      <td>2.572</td>\n",
       "      <td>0.00</td>\n",
       "      <td>0.00</td>\n",
       "      <td>0.0</td>\n",
       "      <td>0.00</td>\n",
       "      <td>0.00</td>\n",
       "      <td>211.096358</td>\n",
       "      <td>8.106</td>\n",
       "      <td>False</td>\n",
       "      <td>1</td>\n",
       "      <td>24924.50</td>\n",
       "    </tr>\n",
       "    <tr>\n",
       "      <th>1</th>\n",
       "      <td>1</td>\n",
       "      <td>2010-05-02</td>\n",
       "      <td>42.31</td>\n",
       "      <td>2.572</td>\n",
       "      <td>0.00</td>\n",
       "      <td>0.00</td>\n",
       "      <td>0.0</td>\n",
       "      <td>0.00</td>\n",
       "      <td>0.00</td>\n",
       "      <td>211.096358</td>\n",
       "      <td>8.106</td>\n",
       "      <td>False</td>\n",
       "      <td>2</td>\n",
       "      <td>50605.27</td>\n",
       "    </tr>\n",
       "    <tr>\n",
       "      <th>2</th>\n",
       "      <td>1</td>\n",
       "      <td>2010-05-02</td>\n",
       "      <td>42.31</td>\n",
       "      <td>2.572</td>\n",
       "      <td>0.00</td>\n",
       "      <td>0.00</td>\n",
       "      <td>0.0</td>\n",
       "      <td>0.00</td>\n",
       "      <td>0.00</td>\n",
       "      <td>211.096358</td>\n",
       "      <td>8.106</td>\n",
       "      <td>False</td>\n",
       "      <td>3</td>\n",
       "      <td>13740.12</td>\n",
       "    </tr>\n",
       "    <tr>\n",
       "      <th>3</th>\n",
       "      <td>1</td>\n",
       "      <td>2010-05-02</td>\n",
       "      <td>42.31</td>\n",
       "      <td>2.572</td>\n",
       "      <td>0.00</td>\n",
       "      <td>0.00</td>\n",
       "      <td>0.0</td>\n",
       "      <td>0.00</td>\n",
       "      <td>0.00</td>\n",
       "      <td>211.096358</td>\n",
       "      <td>8.106</td>\n",
       "      <td>False</td>\n",
       "      <td>4</td>\n",
       "      <td>39954.04</td>\n",
       "    </tr>\n",
       "    <tr>\n",
       "      <th>4</th>\n",
       "      <td>1</td>\n",
       "      <td>2010-05-02</td>\n",
       "      <td>42.31</td>\n",
       "      <td>2.572</td>\n",
       "      <td>0.00</td>\n",
       "      <td>0.00</td>\n",
       "      <td>0.0</td>\n",
       "      <td>0.00</td>\n",
       "      <td>0.00</td>\n",
       "      <td>211.096358</td>\n",
       "      <td>8.106</td>\n",
       "      <td>False</td>\n",
       "      <td>5</td>\n",
       "      <td>32229.38</td>\n",
       "    </tr>\n",
       "    <tr>\n",
       "      <th>...</th>\n",
       "      <td>...</td>\n",
       "      <td>...</td>\n",
       "      <td>...</td>\n",
       "      <td>...</td>\n",
       "      <td>...</td>\n",
       "      <td>...</td>\n",
       "      <td>...</td>\n",
       "      <td>...</td>\n",
       "      <td>...</td>\n",
       "      <td>...</td>\n",
       "      <td>...</td>\n",
       "      <td>...</td>\n",
       "      <td>...</td>\n",
       "      <td>...</td>\n",
       "    </tr>\n",
       "    <tr>\n",
       "      <th>421565</th>\n",
       "      <td>45</td>\n",
       "      <td>2012-10-26</td>\n",
       "      <td>58.85</td>\n",
       "      <td>3.882</td>\n",
       "      <td>4018.91</td>\n",
       "      <td>58.08</td>\n",
       "      <td>100.0</td>\n",
       "      <td>211.94</td>\n",
       "      <td>858.33</td>\n",
       "      <td>192.308899</td>\n",
       "      <td>8.667</td>\n",
       "      <td>False</td>\n",
       "      <td>93</td>\n",
       "      <td>2487.80</td>\n",
       "    </tr>\n",
       "    <tr>\n",
       "      <th>421566</th>\n",
       "      <td>45</td>\n",
       "      <td>2012-10-26</td>\n",
       "      <td>58.85</td>\n",
       "      <td>3.882</td>\n",
       "      <td>4018.91</td>\n",
       "      <td>58.08</td>\n",
       "      <td>100.0</td>\n",
       "      <td>211.94</td>\n",
       "      <td>858.33</td>\n",
       "      <td>192.308899</td>\n",
       "      <td>8.667</td>\n",
       "      <td>False</td>\n",
       "      <td>94</td>\n",
       "      <td>5203.31</td>\n",
       "    </tr>\n",
       "    <tr>\n",
       "      <th>421567</th>\n",
       "      <td>45</td>\n",
       "      <td>2012-10-26</td>\n",
       "      <td>58.85</td>\n",
       "      <td>3.882</td>\n",
       "      <td>4018.91</td>\n",
       "      <td>58.08</td>\n",
       "      <td>100.0</td>\n",
       "      <td>211.94</td>\n",
       "      <td>858.33</td>\n",
       "      <td>192.308899</td>\n",
       "      <td>8.667</td>\n",
       "      <td>False</td>\n",
       "      <td>95</td>\n",
       "      <td>56017.47</td>\n",
       "    </tr>\n",
       "    <tr>\n",
       "      <th>421568</th>\n",
       "      <td>45</td>\n",
       "      <td>2012-10-26</td>\n",
       "      <td>58.85</td>\n",
       "      <td>3.882</td>\n",
       "      <td>4018.91</td>\n",
       "      <td>58.08</td>\n",
       "      <td>100.0</td>\n",
       "      <td>211.94</td>\n",
       "      <td>858.33</td>\n",
       "      <td>192.308899</td>\n",
       "      <td>8.667</td>\n",
       "      <td>False</td>\n",
       "      <td>97</td>\n",
       "      <td>6817.48</td>\n",
       "    </tr>\n",
       "    <tr>\n",
       "      <th>421569</th>\n",
       "      <td>45</td>\n",
       "      <td>2012-10-26</td>\n",
       "      <td>58.85</td>\n",
       "      <td>3.882</td>\n",
       "      <td>4018.91</td>\n",
       "      <td>58.08</td>\n",
       "      <td>100.0</td>\n",
       "      <td>211.94</td>\n",
       "      <td>858.33</td>\n",
       "      <td>192.308899</td>\n",
       "      <td>8.667</td>\n",
       "      <td>False</td>\n",
       "      <td>98</td>\n",
       "      <td>1076.80</td>\n",
       "    </tr>\n",
       "  </tbody>\n",
       "</table>\n",
       "<p>421570 rows × 14 columns</p>\n",
       "</div>"
      ],
      "text/plain": [
       "        Store       Date  Temperature  Fuel_Price  MarkDown1  MarkDown2  \\\n",
       "0           1 2010-05-02        42.31       2.572       0.00       0.00   \n",
       "1           1 2010-05-02        42.31       2.572       0.00       0.00   \n",
       "2           1 2010-05-02        42.31       2.572       0.00       0.00   \n",
       "3           1 2010-05-02        42.31       2.572       0.00       0.00   \n",
       "4           1 2010-05-02        42.31       2.572       0.00       0.00   \n",
       "...       ...        ...          ...         ...        ...        ...   \n",
       "421565     45 2012-10-26        58.85       3.882    4018.91      58.08   \n",
       "421566     45 2012-10-26        58.85       3.882    4018.91      58.08   \n",
       "421567     45 2012-10-26        58.85       3.882    4018.91      58.08   \n",
       "421568     45 2012-10-26        58.85       3.882    4018.91      58.08   \n",
       "421569     45 2012-10-26        58.85       3.882    4018.91      58.08   \n",
       "\n",
       "        MarkDown3  MarkDown4  MarkDown5         CPI  Unemployment  IsHoliday  \\\n",
       "0             0.0       0.00       0.00  211.096358         8.106      False   \n",
       "1             0.0       0.00       0.00  211.096358         8.106      False   \n",
       "2             0.0       0.00       0.00  211.096358         8.106      False   \n",
       "3             0.0       0.00       0.00  211.096358         8.106      False   \n",
       "4             0.0       0.00       0.00  211.096358         8.106      False   \n",
       "...           ...        ...        ...         ...           ...        ...   \n",
       "421565      100.0     211.94     858.33  192.308899         8.667      False   \n",
       "421566      100.0     211.94     858.33  192.308899         8.667      False   \n",
       "421567      100.0     211.94     858.33  192.308899         8.667      False   \n",
       "421568      100.0     211.94     858.33  192.308899         8.667      False   \n",
       "421569      100.0     211.94     858.33  192.308899         8.667      False   \n",
       "\n",
       "        Dept  Weekly_Sales  \n",
       "0          1      24924.50  \n",
       "1          2      50605.27  \n",
       "2          3      13740.12  \n",
       "3          4      39954.04  \n",
       "4          5      32229.38  \n",
       "...      ...           ...  \n",
       "421565    93       2487.80  \n",
       "421566    94       5203.31  \n",
       "421567    95      56017.47  \n",
       "421568    97       6817.48  \n",
       "421569    98       1076.80  \n",
       "\n",
       "[421570 rows x 14 columns]"
      ]
     },
     "execution_count": 21,
     "metadata": {},
     "output_type": "execute_result"
    }
   ],
   "source": [
    "df_all_1 = df_features.merge(df_sales, 'right', on = ['Date', 'Store', 'IsHoliday'])\n",
    "\n",
    "df_all_1"
   ]
  },
  {
   "cell_type": "code",
   "execution_count": 22,
   "metadata": {},
   "outputs": [
    {
     "data": {
      "text/html": [
       "<div>\n",
       "<style scoped>\n",
       "    .dataframe tbody tr th:only-of-type {\n",
       "        vertical-align: middle;\n",
       "    }\n",
       "\n",
       "    .dataframe tbody tr th {\n",
       "        vertical-align: top;\n",
       "    }\n",
       "\n",
       "    .dataframe thead th {\n",
       "        text-align: right;\n",
       "    }\n",
       "</style>\n",
       "<table border=\"1\" class=\"dataframe\">\n",
       "  <thead>\n",
       "    <tr style=\"text-align: right;\">\n",
       "      <th></th>\n",
       "      <th>Store</th>\n",
       "      <th>Date</th>\n",
       "      <th>Temperature</th>\n",
       "      <th>Fuel_Price</th>\n",
       "      <th>MarkDown1</th>\n",
       "      <th>MarkDown2</th>\n",
       "      <th>MarkDown3</th>\n",
       "      <th>MarkDown4</th>\n",
       "      <th>MarkDown5</th>\n",
       "      <th>CPI</th>\n",
       "      <th>Unemployment</th>\n",
       "      <th>IsHoliday</th>\n",
       "      <th>Dept</th>\n",
       "      <th>Weekly_Sales</th>\n",
       "      <th>Type</th>\n",
       "      <th>Size</th>\n",
       "    </tr>\n",
       "  </thead>\n",
       "  <tbody>\n",
       "    <tr>\n",
       "      <th>0</th>\n",
       "      <td>1</td>\n",
       "      <td>2010-05-02</td>\n",
       "      <td>42.31</td>\n",
       "      <td>2.572</td>\n",
       "      <td>0.0</td>\n",
       "      <td>0.0</td>\n",
       "      <td>0.0</td>\n",
       "      <td>0.0</td>\n",
       "      <td>0.0</td>\n",
       "      <td>211.096358</td>\n",
       "      <td>8.106</td>\n",
       "      <td>False</td>\n",
       "      <td>1</td>\n",
       "      <td>24924.50</td>\n",
       "      <td>A</td>\n",
       "      <td>151315</td>\n",
       "    </tr>\n",
       "    <tr>\n",
       "      <th>1</th>\n",
       "      <td>1</td>\n",
       "      <td>2010-05-02</td>\n",
       "      <td>42.31</td>\n",
       "      <td>2.572</td>\n",
       "      <td>0.0</td>\n",
       "      <td>0.0</td>\n",
       "      <td>0.0</td>\n",
       "      <td>0.0</td>\n",
       "      <td>0.0</td>\n",
       "      <td>211.096358</td>\n",
       "      <td>8.106</td>\n",
       "      <td>False</td>\n",
       "      <td>2</td>\n",
       "      <td>50605.27</td>\n",
       "      <td>A</td>\n",
       "      <td>151315</td>\n",
       "    </tr>\n",
       "    <tr>\n",
       "      <th>2</th>\n",
       "      <td>1</td>\n",
       "      <td>2010-05-02</td>\n",
       "      <td>42.31</td>\n",
       "      <td>2.572</td>\n",
       "      <td>0.0</td>\n",
       "      <td>0.0</td>\n",
       "      <td>0.0</td>\n",
       "      <td>0.0</td>\n",
       "      <td>0.0</td>\n",
       "      <td>211.096358</td>\n",
       "      <td>8.106</td>\n",
       "      <td>False</td>\n",
       "      <td>3</td>\n",
       "      <td>13740.12</td>\n",
       "      <td>A</td>\n",
       "      <td>151315</td>\n",
       "    </tr>\n",
       "    <tr>\n",
       "      <th>3</th>\n",
       "      <td>1</td>\n",
       "      <td>2010-05-02</td>\n",
       "      <td>42.31</td>\n",
       "      <td>2.572</td>\n",
       "      <td>0.0</td>\n",
       "      <td>0.0</td>\n",
       "      <td>0.0</td>\n",
       "      <td>0.0</td>\n",
       "      <td>0.0</td>\n",
       "      <td>211.096358</td>\n",
       "      <td>8.106</td>\n",
       "      <td>False</td>\n",
       "      <td>4</td>\n",
       "      <td>39954.04</td>\n",
       "      <td>A</td>\n",
       "      <td>151315</td>\n",
       "    </tr>\n",
       "    <tr>\n",
       "      <th>4</th>\n",
       "      <td>1</td>\n",
       "      <td>2010-05-02</td>\n",
       "      <td>42.31</td>\n",
       "      <td>2.572</td>\n",
       "      <td>0.0</td>\n",
       "      <td>0.0</td>\n",
       "      <td>0.0</td>\n",
       "      <td>0.0</td>\n",
       "      <td>0.0</td>\n",
       "      <td>211.096358</td>\n",
       "      <td>8.106</td>\n",
       "      <td>False</td>\n",
       "      <td>5</td>\n",
       "      <td>32229.38</td>\n",
       "      <td>A</td>\n",
       "      <td>151315</td>\n",
       "    </tr>\n",
       "  </tbody>\n",
       "</table>\n",
       "</div>"
      ],
      "text/plain": [
       "   Store       Date  Temperature  Fuel_Price  MarkDown1  MarkDown2  MarkDown3  \\\n",
       "0      1 2010-05-02        42.31       2.572        0.0        0.0        0.0   \n",
       "1      1 2010-05-02        42.31       2.572        0.0        0.0        0.0   \n",
       "2      1 2010-05-02        42.31       2.572        0.0        0.0        0.0   \n",
       "3      1 2010-05-02        42.31       2.572        0.0        0.0        0.0   \n",
       "4      1 2010-05-02        42.31       2.572        0.0        0.0        0.0   \n",
       "\n",
       "   MarkDown4  MarkDown5         CPI  Unemployment  IsHoliday  Dept  \\\n",
       "0        0.0        0.0  211.096358         8.106      False     1   \n",
       "1        0.0        0.0  211.096358         8.106      False     2   \n",
       "2        0.0        0.0  211.096358         8.106      False     3   \n",
       "3        0.0        0.0  211.096358         8.106      False     4   \n",
       "4        0.0        0.0  211.096358         8.106      False     5   \n",
       "\n",
       "   Weekly_Sales Type    Size  \n",
       "0      24924.50    A  151315  \n",
       "1      50605.27    A  151315  \n",
       "2      13740.12    A  151315  \n",
       "3      39954.04    A  151315  \n",
       "4      32229.38    A  151315  "
      ]
     },
     "execution_count": 22,
     "metadata": {},
     "output_type": "execute_result"
    }
   ],
   "source": [
    "# Merging Sales + features with store \n",
    "df_all = df_all_1.merge(df_stores, 'left', on = 'Store')\n",
    "df_all.head()"
   ]
  },
  {
   "cell_type": "code",
   "execution_count": 23,
   "metadata": {},
   "outputs": [],
   "source": [
    "# Sorting the value by date\n",
    "df_all = df_all.sort_values('Date')"
   ]
  },
  {
   "cell_type": "code",
   "execution_count": 24,
   "metadata": {},
   "outputs": [],
   "source": [
    "# Reseting index\n",
    "df_all.reset_index(inplace = True)"
   ]
  },
  {
   "cell_type": "code",
   "execution_count": 26,
   "metadata": {},
   "outputs": [
    {
     "data": {
      "text/html": [
       "<div>\n",
       "<style scoped>\n",
       "    .dataframe tbody tr th:only-of-type {\n",
       "        vertical-align: middle;\n",
       "    }\n",
       "\n",
       "    .dataframe tbody tr th {\n",
       "        vertical-align: top;\n",
       "    }\n",
       "\n",
       "    .dataframe thead th {\n",
       "        text-align: right;\n",
       "    }\n",
       "</style>\n",
       "<table border=\"1\" class=\"dataframe\">\n",
       "  <thead>\n",
       "    <tr style=\"text-align: right;\">\n",
       "      <th></th>\n",
       "      <th>Store</th>\n",
       "      <th>Date</th>\n",
       "      <th>Temperature</th>\n",
       "      <th>Fuel_Price</th>\n",
       "      <th>MarkDown1</th>\n",
       "      <th>MarkDown2</th>\n",
       "      <th>MarkDown3</th>\n",
       "      <th>MarkDown4</th>\n",
       "      <th>MarkDown5</th>\n",
       "      <th>CPI</th>\n",
       "      <th>Unemployment</th>\n",
       "      <th>IsHoliday</th>\n",
       "      <th>Dept</th>\n",
       "      <th>Weekly_Sales</th>\n",
       "      <th>Type</th>\n",
       "      <th>Size</th>\n",
       "    </tr>\n",
       "  </thead>\n",
       "  <tbody>\n",
       "    <tr>\n",
       "      <th>0</th>\n",
       "      <td>13</td>\n",
       "      <td>2010-01-10</td>\n",
       "      <td>68.74</td>\n",
       "      <td>2.853</td>\n",
       "      <td>0.0</td>\n",
       "      <td>0.0</td>\n",
       "      <td>0.0</td>\n",
       "      <td>0.0</td>\n",
       "      <td>0.0</td>\n",
       "      <td>126.234600</td>\n",
       "      <td>7.795</td>\n",
       "      <td>False</td>\n",
       "      <td>14</td>\n",
       "      <td>20922.18</td>\n",
       "      <td>A</td>\n",
       "      <td>219622</td>\n",
       "    </tr>\n",
       "    <tr>\n",
       "      <th>1</th>\n",
       "      <td>40</td>\n",
       "      <td>2010-01-10</td>\n",
       "      <td>62.01</td>\n",
       "      <td>2.717</td>\n",
       "      <td>0.0</td>\n",
       "      <td>0.0</td>\n",
       "      <td>0.0</td>\n",
       "      <td>0.0</td>\n",
       "      <td>0.0</td>\n",
       "      <td>132.756800</td>\n",
       "      <td>5.287</td>\n",
       "      <td>False</td>\n",
       "      <td>74</td>\n",
       "      <td>9872.41</td>\n",
       "      <td>A</td>\n",
       "      <td>155083</td>\n",
       "    </tr>\n",
       "    <tr>\n",
       "      <th>2</th>\n",
       "      <td>40</td>\n",
       "      <td>2010-01-10</td>\n",
       "      <td>62.01</td>\n",
       "      <td>2.717</td>\n",
       "      <td>0.0</td>\n",
       "      <td>0.0</td>\n",
       "      <td>0.0</td>\n",
       "      <td>0.0</td>\n",
       "      <td>0.0</td>\n",
       "      <td>132.756800</td>\n",
       "      <td>5.287</td>\n",
       "      <td>False</td>\n",
       "      <td>79</td>\n",
       "      <td>10840.77</td>\n",
       "      <td>A</td>\n",
       "      <td>155083</td>\n",
       "    </tr>\n",
       "    <tr>\n",
       "      <th>3</th>\n",
       "      <td>27</td>\n",
       "      <td>2010-01-10</td>\n",
       "      <td>70.19</td>\n",
       "      <td>2.840</td>\n",
       "      <td>0.0</td>\n",
       "      <td>0.0</td>\n",
       "      <td>0.0</td>\n",
       "      <td>0.0</td>\n",
       "      <td>0.0</td>\n",
       "      <td>136.629757</td>\n",
       "      <td>8.021</td>\n",
       "      <td>False</td>\n",
       "      <td>98</td>\n",
       "      <td>9837.86</td>\n",
       "      <td>A</td>\n",
       "      <td>204184</td>\n",
       "    </tr>\n",
       "    <tr>\n",
       "      <th>4</th>\n",
       "      <td>27</td>\n",
       "      <td>2010-01-10</td>\n",
       "      <td>70.19</td>\n",
       "      <td>2.840</td>\n",
       "      <td>0.0</td>\n",
       "      <td>0.0</td>\n",
       "      <td>0.0</td>\n",
       "      <td>0.0</td>\n",
       "      <td>0.0</td>\n",
       "      <td>136.629757</td>\n",
       "      <td>8.021</td>\n",
       "      <td>False</td>\n",
       "      <td>97</td>\n",
       "      <td>19095.76</td>\n",
       "      <td>A</td>\n",
       "      <td>204184</td>\n",
       "    </tr>\n",
       "  </tbody>\n",
       "</table>\n",
       "</div>"
      ],
      "text/plain": [
       "   Store       Date  Temperature  Fuel_Price  MarkDown1  MarkDown2  MarkDown3  \\\n",
       "0     13 2010-01-10        68.74       2.853        0.0        0.0        0.0   \n",
       "1     40 2010-01-10        62.01       2.717        0.0        0.0        0.0   \n",
       "2     40 2010-01-10        62.01       2.717        0.0        0.0        0.0   \n",
       "3     27 2010-01-10        70.19       2.840        0.0        0.0        0.0   \n",
       "4     27 2010-01-10        70.19       2.840        0.0        0.0        0.0   \n",
       "\n",
       "   MarkDown4  MarkDown5         CPI  Unemployment  IsHoliday  Dept  \\\n",
       "0        0.0        0.0  126.234600         7.795      False    14   \n",
       "1        0.0        0.0  132.756800         5.287      False    74   \n",
       "2        0.0        0.0  132.756800         5.287      False    79   \n",
       "3        0.0        0.0  136.629757         8.021      False    98   \n",
       "4        0.0        0.0  136.629757         8.021      False    97   \n",
       "\n",
       "   Weekly_Sales Type    Size  \n",
       "0      20922.18    A  219622  \n",
       "1       9872.41    A  155083  \n",
       "2      10840.77    A  155083  \n",
       "3       9837.86    A  204184  \n",
       "4      19095.76    A  204184  "
      ]
     },
     "execution_count": 26,
     "metadata": {},
     "output_type": "execute_result"
    }
   ],
   "source": [
    "# droping the index column\n",
    "df_all.drop(['index'], axis = 1, inplace = True)\n",
    "\n",
    "df_all.head(5)"
   ]
  },
  {
   "cell_type": "code",
   "execution_count": 27,
   "metadata": {},
   "outputs": [
    {
     "data": {
      "text/html": [
       "<div>\n",
       "<style scoped>\n",
       "    .dataframe tbody tr th:only-of-type {\n",
       "        vertical-align: middle;\n",
       "    }\n",
       "\n",
       "    .dataframe tbody tr th {\n",
       "        vertical-align: top;\n",
       "    }\n",
       "\n",
       "    .dataframe thead th {\n",
       "        text-align: right;\n",
       "    }\n",
       "</style>\n",
       "<table border=\"1\" class=\"dataframe\">\n",
       "  <thead>\n",
       "    <tr style=\"text-align: right;\">\n",
       "      <th></th>\n",
       "      <th>Store</th>\n",
       "      <th>Temperature</th>\n",
       "      <th>Fuel_Price</th>\n",
       "      <th>MarkDown1</th>\n",
       "      <th>MarkDown2</th>\n",
       "      <th>MarkDown3</th>\n",
       "      <th>MarkDown4</th>\n",
       "      <th>MarkDown5</th>\n",
       "      <th>CPI</th>\n",
       "      <th>Unemployment</th>\n",
       "      <th>Dept</th>\n",
       "      <th>Weekly_Sales</th>\n",
       "      <th>Size</th>\n",
       "    </tr>\n",
       "  </thead>\n",
       "  <tbody>\n",
       "    <tr>\n",
       "      <th>count</th>\n",
       "      <td>421570.000000</td>\n",
       "      <td>421570.000000</td>\n",
       "      <td>421570.000000</td>\n",
       "      <td>421570.000000</td>\n",
       "      <td>421570.000000</td>\n",
       "      <td>421570.000000</td>\n",
       "      <td>421570.000000</td>\n",
       "      <td>421570.000000</td>\n",
       "      <td>421570.000000</td>\n",
       "      <td>421570.000000</td>\n",
       "      <td>421570.000000</td>\n",
       "      <td>421570.000000</td>\n",
       "      <td>421570.000000</td>\n",
       "    </tr>\n",
       "    <tr>\n",
       "      <th>mean</th>\n",
       "      <td>22.200546</td>\n",
       "      <td>60.090059</td>\n",
       "      <td>3.361027</td>\n",
       "      <td>2590.392585</td>\n",
       "      <td>913.428550</td>\n",
       "      <td>468.814001</td>\n",
       "      <td>1086.569677</td>\n",
       "      <td>1662.772385</td>\n",
       "      <td>171.201947</td>\n",
       "      <td>7.960289</td>\n",
       "      <td>44.260317</td>\n",
       "      <td>15981.258123</td>\n",
       "      <td>136727.915739</td>\n",
       "    </tr>\n",
       "    <tr>\n",
       "      <th>std</th>\n",
       "      <td>12.785297</td>\n",
       "      <td>18.447931</td>\n",
       "      <td>0.458515</td>\n",
       "      <td>6052.257540</td>\n",
       "      <td>5086.843826</td>\n",
       "      <td>5528.817592</td>\n",
       "      <td>3894.194587</td>\n",
       "      <td>4207.629321</td>\n",
       "      <td>39.159276</td>\n",
       "      <td>1.863296</td>\n",
       "      <td>30.492054</td>\n",
       "      <td>22711.183519</td>\n",
       "      <td>60980.583328</td>\n",
       "    </tr>\n",
       "    <tr>\n",
       "      <th>min</th>\n",
       "      <td>1.000000</td>\n",
       "      <td>-2.060000</td>\n",
       "      <td>2.472000</td>\n",
       "      <td>0.000000</td>\n",
       "      <td>-265.760000</td>\n",
       "      <td>-29.100000</td>\n",
       "      <td>0.000000</td>\n",
       "      <td>0.000000</td>\n",
       "      <td>126.064000</td>\n",
       "      <td>3.879000</td>\n",
       "      <td>1.000000</td>\n",
       "      <td>-4988.940000</td>\n",
       "      <td>34875.000000</td>\n",
       "    </tr>\n",
       "    <tr>\n",
       "      <th>25%</th>\n",
       "      <td>11.000000</td>\n",
       "      <td>46.680000</td>\n",
       "      <td>2.933000</td>\n",
       "      <td>0.000000</td>\n",
       "      <td>0.000000</td>\n",
       "      <td>0.000000</td>\n",
       "      <td>0.000000</td>\n",
       "      <td>0.000000</td>\n",
       "      <td>132.022667</td>\n",
       "      <td>6.891000</td>\n",
       "      <td>18.000000</td>\n",
       "      <td>2079.650000</td>\n",
       "      <td>93638.000000</td>\n",
       "    </tr>\n",
       "    <tr>\n",
       "      <th>50%</th>\n",
       "      <td>22.000000</td>\n",
       "      <td>62.090000</td>\n",
       "      <td>3.452000</td>\n",
       "      <td>0.000000</td>\n",
       "      <td>0.000000</td>\n",
       "      <td>0.000000</td>\n",
       "      <td>0.000000</td>\n",
       "      <td>0.000000</td>\n",
       "      <td>182.318780</td>\n",
       "      <td>7.866000</td>\n",
       "      <td>37.000000</td>\n",
       "      <td>7612.030000</td>\n",
       "      <td>140167.000000</td>\n",
       "    </tr>\n",
       "    <tr>\n",
       "      <th>75%</th>\n",
       "      <td>33.000000</td>\n",
       "      <td>74.280000</td>\n",
       "      <td>3.738000</td>\n",
       "      <td>2809.050000</td>\n",
       "      <td>39.560000</td>\n",
       "      <td>6.500000</td>\n",
       "      <td>436.670000</td>\n",
       "      <td>2168.040000</td>\n",
       "      <td>212.416993</td>\n",
       "      <td>8.572000</td>\n",
       "      <td>74.000000</td>\n",
       "      <td>20205.852500</td>\n",
       "      <td>202505.000000</td>\n",
       "    </tr>\n",
       "    <tr>\n",
       "      <th>max</th>\n",
       "      <td>45.000000</td>\n",
       "      <td>100.140000</td>\n",
       "      <td>4.468000</td>\n",
       "      <td>88646.760000</td>\n",
       "      <td>104519.540000</td>\n",
       "      <td>141630.610000</td>\n",
       "      <td>67474.850000</td>\n",
       "      <td>108519.280000</td>\n",
       "      <td>227.232807</td>\n",
       "      <td>14.313000</td>\n",
       "      <td>99.000000</td>\n",
       "      <td>693099.360000</td>\n",
       "      <td>219622.000000</td>\n",
       "    </tr>\n",
       "  </tbody>\n",
       "</table>\n",
       "</div>"
      ],
      "text/plain": [
       "               Store    Temperature     Fuel_Price      MarkDown1  \\\n",
       "count  421570.000000  421570.000000  421570.000000  421570.000000   \n",
       "mean       22.200546      60.090059       3.361027    2590.392585   \n",
       "std        12.785297      18.447931       0.458515    6052.257540   \n",
       "min         1.000000      -2.060000       2.472000       0.000000   \n",
       "25%        11.000000      46.680000       2.933000       0.000000   \n",
       "50%        22.000000      62.090000       3.452000       0.000000   \n",
       "75%        33.000000      74.280000       3.738000    2809.050000   \n",
       "max        45.000000     100.140000       4.468000   88646.760000   \n",
       "\n",
       "           MarkDown2      MarkDown3      MarkDown4      MarkDown5  \\\n",
       "count  421570.000000  421570.000000  421570.000000  421570.000000   \n",
       "mean      913.428550     468.814001    1086.569677    1662.772385   \n",
       "std      5086.843826    5528.817592    3894.194587    4207.629321   \n",
       "min      -265.760000     -29.100000       0.000000       0.000000   \n",
       "25%         0.000000       0.000000       0.000000       0.000000   \n",
       "50%         0.000000       0.000000       0.000000       0.000000   \n",
       "75%        39.560000       6.500000     436.670000    2168.040000   \n",
       "max    104519.540000  141630.610000   67474.850000  108519.280000   \n",
       "\n",
       "                 CPI   Unemployment           Dept   Weekly_Sales  \\\n",
       "count  421570.000000  421570.000000  421570.000000  421570.000000   \n",
       "mean      171.201947       7.960289      44.260317   15981.258123   \n",
       "std        39.159276       1.863296      30.492054   22711.183519   \n",
       "min       126.064000       3.879000       1.000000   -4988.940000   \n",
       "25%       132.022667       6.891000      18.000000    2079.650000   \n",
       "50%       182.318780       7.866000      37.000000    7612.030000   \n",
       "75%       212.416993       8.572000      74.000000   20205.852500   \n",
       "max       227.232807      14.313000      99.000000  693099.360000   \n",
       "\n",
       "                Size  \n",
       "count  421570.000000  \n",
       "mean   136727.915739  \n",
       "std     60980.583328  \n",
       "min     34875.000000  \n",
       "25%     93638.000000  \n",
       "50%    140167.000000  \n",
       "75%    202505.000000  \n",
       "max    219622.000000  "
      ]
     },
     "execution_count": 27,
     "metadata": {},
     "output_type": "execute_result"
    }
   ],
   "source": [
    "# Basic statistical summary of the quantitive features\n",
    "df_all.describe()"
   ]
  },
  {
   "cell_type": "code",
   "execution_count": 28,
   "metadata": {},
   "outputs": [
    {
     "name": "stdout",
     "output_type": "stream",
     "text": [
      "<class 'pandas.core.frame.DataFrame'>\n",
      "RangeIndex: 421570 entries, 0 to 421569\n",
      "Data columns (total 16 columns):\n",
      " #   Column        Non-Null Count   Dtype         \n",
      "---  ------        --------------   -----         \n",
      " 0   Store         421570 non-null  int64         \n",
      " 1   Date          421570 non-null  datetime64[ns]\n",
      " 2   Temperature   421570 non-null  float64       \n",
      " 3   Fuel_Price    421570 non-null  float64       \n",
      " 4   MarkDown1     421570 non-null  float64       \n",
      " 5   MarkDown2     421570 non-null  float64       \n",
      " 6   MarkDown3     421570 non-null  float64       \n",
      " 7   MarkDown4     421570 non-null  float64       \n",
      " 8   MarkDown5     421570 non-null  float64       \n",
      " 9   CPI           421570 non-null  float64       \n",
      " 10  Unemployment  421570 non-null  float64       \n",
      " 11  IsHoliday     421570 non-null  bool          \n",
      " 12  Dept          421570 non-null  int64         \n",
      " 13  Weekly_Sales  421570 non-null  float64       \n",
      " 14  Type          421570 non-null  object        \n",
      " 15  Size          421570 non-null  int64         \n",
      "dtypes: bool(1), datetime64[ns](1), float64(10), int64(3), object(1)\n",
      "memory usage: 48.6+ MB\n"
     ]
    }
   ],
   "source": [
    "df_all.info()"
   ]
  },
  {
   "cell_type": "code",
   "execution_count": 29,
   "metadata": {},
   "outputs": [],
   "source": [
    "# Mapping IsHoliday and Type feature from boolean and object to numberic \n",
    "\n",
    "mapping_dict = {'IsHoliday':{True:1, False:0}}\n",
    "df_all.replace(mapping_dict, inplace=True)\n",
    "\n",
    "mapping_dict_1 = {'Type':{'A':3, 'B':2, 'C':1}}\n",
    "df_all.replace(mapping_dict_1, inplace=True)"
   ]
  },
  {
   "cell_type": "code",
   "execution_count": 30,
   "metadata": {},
   "outputs": [
    {
     "name": "stdout",
     "output_type": "stream",
     "text": [
      "<class 'pandas.core.frame.DataFrame'>\n",
      "RangeIndex: 421570 entries, 0 to 421569\n",
      "Data columns (total 16 columns):\n",
      " #   Column        Non-Null Count   Dtype         \n",
      "---  ------        --------------   -----         \n",
      " 0   Store         421570 non-null  int64         \n",
      " 1   Date          421570 non-null  datetime64[ns]\n",
      " 2   Temperature   421570 non-null  float64       \n",
      " 3   Fuel_Price    421570 non-null  float64       \n",
      " 4   MarkDown1     421570 non-null  float64       \n",
      " 5   MarkDown2     421570 non-null  float64       \n",
      " 6   MarkDown3     421570 non-null  float64       \n",
      " 7   MarkDown4     421570 non-null  float64       \n",
      " 8   MarkDown5     421570 non-null  float64       \n",
      " 9   CPI           421570 non-null  float64       \n",
      " 10  Unemployment  421570 non-null  float64       \n",
      " 11  IsHoliday     421570 non-null  int64         \n",
      " 12  Dept          421570 non-null  int64         \n",
      " 13  Weekly_Sales  421570 non-null  float64       \n",
      " 14  Type          421570 non-null  int64         \n",
      " 15  Size          421570 non-null  int64         \n",
      "dtypes: datetime64[ns](1), float64(10), int64(5)\n",
      "memory usage: 51.5 MB\n"
     ]
    }
   ],
   "source": [
    "df_all.info()"
   ]
  },
  {
   "cell_type": "code",
   "execution_count": 31,
   "metadata": {},
   "outputs": [
    {
     "data": {
      "text/html": [
       "<div>\n",
       "<style scoped>\n",
       "    .dataframe tbody tr th:only-of-type {\n",
       "        vertical-align: middle;\n",
       "    }\n",
       "\n",
       "    .dataframe tbody tr th {\n",
       "        vertical-align: top;\n",
       "    }\n",
       "\n",
       "    .dataframe thead th {\n",
       "        text-align: right;\n",
       "    }\n",
       "</style>\n",
       "<table border=\"1\" class=\"dataframe\">\n",
       "  <thead>\n",
       "    <tr style=\"text-align: right;\">\n",
       "      <th></th>\n",
       "      <th>Store</th>\n",
       "      <th>Date</th>\n",
       "      <th>Temperature</th>\n",
       "      <th>Fuel_Price</th>\n",
       "      <th>MarkDown1</th>\n",
       "      <th>MarkDown2</th>\n",
       "      <th>MarkDown3</th>\n",
       "      <th>MarkDown4</th>\n",
       "      <th>MarkDown5</th>\n",
       "      <th>CPI</th>\n",
       "      <th>Unemployment</th>\n",
       "      <th>IsHoliday</th>\n",
       "      <th>Dept</th>\n",
       "      <th>Weekly_Sales</th>\n",
       "      <th>Type</th>\n",
       "      <th>Size</th>\n",
       "    </tr>\n",
       "  </thead>\n",
       "  <tbody>\n",
       "    <tr>\n",
       "      <th>0</th>\n",
       "      <td>13</td>\n",
       "      <td>2010-01-10</td>\n",
       "      <td>68.74</td>\n",
       "      <td>2.853</td>\n",
       "      <td>0.0</td>\n",
       "      <td>0.0</td>\n",
       "      <td>0.0</td>\n",
       "      <td>0.0</td>\n",
       "      <td>0.0</td>\n",
       "      <td>126.234600</td>\n",
       "      <td>7.795</td>\n",
       "      <td>0</td>\n",
       "      <td>14</td>\n",
       "      <td>20922.18</td>\n",
       "      <td>3</td>\n",
       "      <td>219622</td>\n",
       "    </tr>\n",
       "    <tr>\n",
       "      <th>1</th>\n",
       "      <td>40</td>\n",
       "      <td>2010-01-10</td>\n",
       "      <td>62.01</td>\n",
       "      <td>2.717</td>\n",
       "      <td>0.0</td>\n",
       "      <td>0.0</td>\n",
       "      <td>0.0</td>\n",
       "      <td>0.0</td>\n",
       "      <td>0.0</td>\n",
       "      <td>132.756800</td>\n",
       "      <td>5.287</td>\n",
       "      <td>0</td>\n",
       "      <td>74</td>\n",
       "      <td>9872.41</td>\n",
       "      <td>3</td>\n",
       "      <td>155083</td>\n",
       "    </tr>\n",
       "    <tr>\n",
       "      <th>2</th>\n",
       "      <td>40</td>\n",
       "      <td>2010-01-10</td>\n",
       "      <td>62.01</td>\n",
       "      <td>2.717</td>\n",
       "      <td>0.0</td>\n",
       "      <td>0.0</td>\n",
       "      <td>0.0</td>\n",
       "      <td>0.0</td>\n",
       "      <td>0.0</td>\n",
       "      <td>132.756800</td>\n",
       "      <td>5.287</td>\n",
       "      <td>0</td>\n",
       "      <td>79</td>\n",
       "      <td>10840.77</td>\n",
       "      <td>3</td>\n",
       "      <td>155083</td>\n",
       "    </tr>\n",
       "    <tr>\n",
       "      <th>3</th>\n",
       "      <td>27</td>\n",
       "      <td>2010-01-10</td>\n",
       "      <td>70.19</td>\n",
       "      <td>2.840</td>\n",
       "      <td>0.0</td>\n",
       "      <td>0.0</td>\n",
       "      <td>0.0</td>\n",
       "      <td>0.0</td>\n",
       "      <td>0.0</td>\n",
       "      <td>136.629757</td>\n",
       "      <td>8.021</td>\n",
       "      <td>0</td>\n",
       "      <td>98</td>\n",
       "      <td>9837.86</td>\n",
       "      <td>3</td>\n",
       "      <td>204184</td>\n",
       "    </tr>\n",
       "    <tr>\n",
       "      <th>4</th>\n",
       "      <td>27</td>\n",
       "      <td>2010-01-10</td>\n",
       "      <td>70.19</td>\n",
       "      <td>2.840</td>\n",
       "      <td>0.0</td>\n",
       "      <td>0.0</td>\n",
       "      <td>0.0</td>\n",
       "      <td>0.0</td>\n",
       "      <td>0.0</td>\n",
       "      <td>136.629757</td>\n",
       "      <td>8.021</td>\n",
       "      <td>0</td>\n",
       "      <td>97</td>\n",
       "      <td>19095.76</td>\n",
       "      <td>3</td>\n",
       "      <td>204184</td>\n",
       "    </tr>\n",
       "  </tbody>\n",
       "</table>\n",
       "</div>"
      ],
      "text/plain": [
       "   Store       Date  Temperature  Fuel_Price  MarkDown1  MarkDown2  MarkDown3  \\\n",
       "0     13 2010-01-10        68.74       2.853        0.0        0.0        0.0   \n",
       "1     40 2010-01-10        62.01       2.717        0.0        0.0        0.0   \n",
       "2     40 2010-01-10        62.01       2.717        0.0        0.0        0.0   \n",
       "3     27 2010-01-10        70.19       2.840        0.0        0.0        0.0   \n",
       "4     27 2010-01-10        70.19       2.840        0.0        0.0        0.0   \n",
       "\n",
       "   MarkDown4  MarkDown5         CPI  Unemployment  IsHoliday  Dept  \\\n",
       "0        0.0        0.0  126.234600         7.795          0    14   \n",
       "1        0.0        0.0  132.756800         5.287          0    74   \n",
       "2        0.0        0.0  132.756800         5.287          0    79   \n",
       "3        0.0        0.0  136.629757         8.021          0    98   \n",
       "4        0.0        0.0  136.629757         8.021          0    97   \n",
       "\n",
       "   Weekly_Sales  Type    Size  \n",
       "0      20922.18     3  219622  \n",
       "1       9872.41     3  155083  \n",
       "2      10840.77     3  155083  \n",
       "3       9837.86     3  204184  \n",
       "4      19095.76     3  204184  "
      ]
     },
     "execution_count": 31,
     "metadata": {},
     "output_type": "execute_result"
    }
   ],
   "source": [
    "df_all.head()"
   ]
  },
  {
   "cell_type": "markdown",
   "metadata": {},
   "source": [
    "## Exploratory Data Analysis (EDA)"
   ]
  },
  {
   "cell_type": "code",
   "execution_count": 32,
   "metadata": {},
   "outputs": [],
   "source": [
    "# Setting up for time series analysis\n",
    "df_by_date = df_all.groupby('Date', as_index=False).agg({'Temperature': 'mean',\n",
    "                                                        'Fuel_Price': 'mean',\n",
    "                                                        'CPI': 'mean',\n",
    "                                                        'Unemployment': 'mean', \n",
    "                                                        'Weekly_Sales': 'sum',\n",
    "                                                        'IsHoliday': 'mean'})"
   ]
  },
  {
   "cell_type": "code",
   "execution_count": 33,
   "metadata": {},
   "outputs": [
    {
     "data": {
      "text/html": [
       "<div>\n",
       "<style scoped>\n",
       "    .dataframe tbody tr th:only-of-type {\n",
       "        vertical-align: middle;\n",
       "    }\n",
       "\n",
       "    .dataframe tbody tr th {\n",
       "        vertical-align: top;\n",
       "    }\n",
       "\n",
       "    .dataframe thead th {\n",
       "        text-align: right;\n",
       "    }\n",
       "</style>\n",
       "<table border=\"1\" class=\"dataframe\">\n",
       "  <thead>\n",
       "    <tr style=\"text-align: right;\">\n",
       "      <th></th>\n",
       "      <th>Temperature</th>\n",
       "      <th>Fuel_Price</th>\n",
       "      <th>CPI</th>\n",
       "      <th>Unemployment</th>\n",
       "      <th>Weekly_Sales</th>\n",
       "      <th>IsHoliday</th>\n",
       "    </tr>\n",
       "    <tr>\n",
       "      <th>Date</th>\n",
       "      <th></th>\n",
       "      <th></th>\n",
       "      <th></th>\n",
       "      <th></th>\n",
       "      <th></th>\n",
       "      <th></th>\n",
       "    </tr>\n",
       "  </thead>\n",
       "  <tbody>\n",
       "    <tr>\n",
       "      <th>2010-01-10</th>\n",
       "      <td>69.386998</td>\n",
       "      <td>2.733064</td>\n",
       "      <td>168.004935</td>\n",
       "      <td>8.433960</td>\n",
       "      <td>42239875.87</td>\n",
       "      <td>0</td>\n",
       "    </tr>\n",
       "    <tr>\n",
       "      <th>2010-02-04</th>\n",
       "      <td>52.587887</td>\n",
       "      <td>2.825453</td>\n",
       "      <td>167.377836</td>\n",
       "      <td>8.441092</td>\n",
       "      <td>50423831.26</td>\n",
       "      <td>0</td>\n",
       "    </tr>\n",
       "    <tr>\n",
       "      <th>2010-02-07</th>\n",
       "      <td>76.555955</td>\n",
       "      <td>2.793190</td>\n",
       "      <td>167.663264</td>\n",
       "      <td>8.373801</td>\n",
       "      <td>48917484.50</td>\n",
       "      <td>0</td>\n",
       "    </tr>\n",
       "    <tr>\n",
       "      <th>2010-02-19</th>\n",
       "      <td>37.038310</td>\n",
       "      <td>2.673666</td>\n",
       "      <td>167.338966</td>\n",
       "      <td>8.576351</td>\n",
       "      <td>48276993.78</td>\n",
       "      <td>0</td>\n",
       "    </tr>\n",
       "    <tr>\n",
       "      <th>2010-02-26</th>\n",
       "      <td>38.629563</td>\n",
       "      <td>2.685642</td>\n",
       "      <td>167.691019</td>\n",
       "      <td>8.561375</td>\n",
       "      <td>43968571.13</td>\n",
       "      <td>0</td>\n",
       "    </tr>\n",
       "  </tbody>\n",
       "</table>\n",
       "</div>"
      ],
      "text/plain": [
       "            Temperature  Fuel_Price         CPI  Unemployment  Weekly_Sales  \\\n",
       "Date                                                                          \n",
       "2010-01-10    69.386998    2.733064  168.004935      8.433960   42239875.87   \n",
       "2010-02-04    52.587887    2.825453  167.377836      8.441092   50423831.26   \n",
       "2010-02-07    76.555955    2.793190  167.663264      8.373801   48917484.50   \n",
       "2010-02-19    37.038310    2.673666  167.338966      8.576351   48276993.78   \n",
       "2010-02-26    38.629563    2.685642  167.691019      8.561375   43968571.13   \n",
       "\n",
       "            IsHoliday  \n",
       "Date                   \n",
       "2010-01-10          0  \n",
       "2010-02-04          0  \n",
       "2010-02-07          0  \n",
       "2010-02-19          0  \n",
       "2010-02-26          0  "
      ]
     },
     "execution_count": 33,
     "metadata": {},
     "output_type": "execute_result"
    }
   ],
   "source": [
    "df_by_date.Date = pd.to_datetime(df_by_date.Date, errors='coerce')\n",
    "df_by_date.set_index('Date', inplace=True)\n",
    "\n",
    "df_by_date.head()"
   ]
  },
  {
   "cell_type": "code",
   "execution_count": 34,
   "metadata": {},
   "outputs": [
    {
     "data": {
      "text/html": [
       "<div>\n",
       "<style scoped>\n",
       "    .dataframe tbody tr th:only-of-type {\n",
       "        vertical-align: middle;\n",
       "    }\n",
       "\n",
       "    .dataframe tbody tr th {\n",
       "        vertical-align: top;\n",
       "    }\n",
       "\n",
       "    .dataframe thead th {\n",
       "        text-align: right;\n",
       "    }\n",
       "</style>\n",
       "<table border=\"1\" class=\"dataframe\">\n",
       "  <thead>\n",
       "    <tr style=\"text-align: right;\">\n",
       "      <th></th>\n",
       "      <th>Temperature</th>\n",
       "      <th>Fuel_Price</th>\n",
       "      <th>CPI</th>\n",
       "      <th>Unemployment</th>\n",
       "      <th>Weekly_Sales</th>\n",
       "      <th>IsHoliday</th>\n",
       "    </tr>\n",
       "    <tr>\n",
       "      <th>Date</th>\n",
       "      <th></th>\n",
       "      <th></th>\n",
       "      <th></th>\n",
       "      <th></th>\n",
       "      <th></th>\n",
       "      <th></th>\n",
       "    </tr>\n",
       "  </thead>\n",
       "  <tbody>\n",
       "    <tr>\n",
       "      <th>2010-01-10</th>\n",
       "      <td>69.386998</td>\n",
       "      <td>2.733064</td>\n",
       "      <td>168.004935</td>\n",
       "      <td>8.433960</td>\n",
       "      <td>4.223988e+07</td>\n",
       "      <td>0.0</td>\n",
       "    </tr>\n",
       "    <tr>\n",
       "      <th>2010-01-17</th>\n",
       "      <td>64.571921</td>\n",
       "      <td>2.809321</td>\n",
       "      <td>167.520550</td>\n",
       "      <td>8.407446</td>\n",
       "      <td>4.967066e+07</td>\n",
       "      <td>0.0</td>\n",
       "    </tr>\n",
       "    <tr>\n",
       "      <th>2010-01-24</th>\n",
       "      <td>64.571921</td>\n",
       "      <td>2.809321</td>\n",
       "      <td>167.520550</td>\n",
       "      <td>8.407446</td>\n",
       "      <td>4.967066e+07</td>\n",
       "      <td>0.0</td>\n",
       "    </tr>\n",
       "    <tr>\n",
       "      <th>2010-01-31</th>\n",
       "      <td>64.571921</td>\n",
       "      <td>2.809321</td>\n",
       "      <td>167.520550</td>\n",
       "      <td>8.407446</td>\n",
       "      <td>4.967066e+07</td>\n",
       "      <td>0.0</td>\n",
       "    </tr>\n",
       "    <tr>\n",
       "      <th>2010-02-07</th>\n",
       "      <td>64.571921</td>\n",
       "      <td>2.809321</td>\n",
       "      <td>167.520550</td>\n",
       "      <td>8.407446</td>\n",
       "      <td>4.967066e+07</td>\n",
       "      <td>0.0</td>\n",
       "    </tr>\n",
       "    <tr>\n",
       "      <th>2010-02-14</th>\n",
       "      <td>37.038310</td>\n",
       "      <td>2.673666</td>\n",
       "      <td>167.338966</td>\n",
       "      <td>8.576351</td>\n",
       "      <td>4.827699e+07</td>\n",
       "      <td>0.0</td>\n",
       "    </tr>\n",
       "    <tr>\n",
       "      <th>2010-02-21</th>\n",
       "      <td>37.038310</td>\n",
       "      <td>2.673666</td>\n",
       "      <td>167.338966</td>\n",
       "      <td>8.576351</td>\n",
       "      <td>4.827699e+07</td>\n",
       "      <td>0.0</td>\n",
       "    </tr>\n",
       "    <tr>\n",
       "      <th>2010-02-28</th>\n",
       "      <td>38.629563</td>\n",
       "      <td>2.685642</td>\n",
       "      <td>167.691019</td>\n",
       "      <td>8.561375</td>\n",
       "      <td>4.396857e+07</td>\n",
       "      <td>0.0</td>\n",
       "    </tr>\n",
       "    <tr>\n",
       "      <th>2010-03-07</th>\n",
       "      <td>58.629843</td>\n",
       "      <td>2.816753</td>\n",
       "      <td>167.988959</td>\n",
       "      <td>8.405245</td>\n",
       "      <td>4.855164e+07</td>\n",
       "      <td>0.0</td>\n",
       "    </tr>\n",
       "    <tr>\n",
       "      <th>2010-03-14</th>\n",
       "      <td>58.629843</td>\n",
       "      <td>2.816753</td>\n",
       "      <td>167.988959</td>\n",
       "      <td>8.405245</td>\n",
       "      <td>4.855164e+07</td>\n",
       "      <td>0.0</td>\n",
       "    </tr>\n",
       "  </tbody>\n",
       "</table>\n",
       "</div>"
      ],
      "text/plain": [
       "            Temperature  Fuel_Price         CPI  Unemployment  Weekly_Sales  \\\n",
       "Date                                                                          \n",
       "2010-01-10    69.386998    2.733064  168.004935      8.433960  4.223988e+07   \n",
       "2010-01-17    64.571921    2.809321  167.520550      8.407446  4.967066e+07   \n",
       "2010-01-24    64.571921    2.809321  167.520550      8.407446  4.967066e+07   \n",
       "2010-01-31    64.571921    2.809321  167.520550      8.407446  4.967066e+07   \n",
       "2010-02-07    64.571921    2.809321  167.520550      8.407446  4.967066e+07   \n",
       "2010-02-14    37.038310    2.673666  167.338966      8.576351  4.827699e+07   \n",
       "2010-02-21    37.038310    2.673666  167.338966      8.576351  4.827699e+07   \n",
       "2010-02-28    38.629563    2.685642  167.691019      8.561375  4.396857e+07   \n",
       "2010-03-07    58.629843    2.816753  167.988959      8.405245  4.855164e+07   \n",
       "2010-03-14    58.629843    2.816753  167.988959      8.405245  4.855164e+07   \n",
       "\n",
       "            IsHoliday  \n",
       "Date                   \n",
       "2010-01-10        0.0  \n",
       "2010-01-17        0.0  \n",
       "2010-01-24        0.0  \n",
       "2010-01-31        0.0  \n",
       "2010-02-07        0.0  \n",
       "2010-02-14        0.0  \n",
       "2010-02-21        0.0  \n",
       "2010-02-28        0.0  \n",
       "2010-03-07        0.0  \n",
       "2010-03-14        0.0  "
      ]
     },
     "execution_count": 34,
     "metadata": {},
     "output_type": "execute_result"
    }
   ],
   "source": [
    "# resampling (weekly, backfill) with some dummy dates in the middle \n",
    "# as the above data doesn't have a definitive frequency\n",
    "\n",
    "df_by_date_new = df_by_date.resample('W').mean().fillna(method='bfill')\n",
    "\n",
    "df_by_date_new[0:10]"
   ]
  },
  {
   "cell_type": "code",
   "execution_count": 69,
   "metadata": {},
   "outputs": [
    {
     "data": {
      "text/plain": [
       "Timestamp('2012-12-16 00:00:00', freq='W-SUN')"
      ]
     },
     "execution_count": 69,
     "metadata": {},
     "output_type": "execute_result"
    }
   ],
   "source": [
    "df_by_date_new.index.max()"
   ]
  },
  {
   "cell_type": "markdown",
   "metadata": {},
   "source": [
    "### Decomposing for time series analysis (trend and season)"
   ]
  },
  {
   "cell_type": "code",
   "execution_count": 35,
   "metadata": {},
   "outputs": [],
   "source": [
    "from statsmodels.tsa.seasonal import seasonal_decompose"
   ]
  },
  {
   "cell_type": "markdown",
   "metadata": {},
   "source": [
    "Seasonal Decompose gives the decomposition of the time series into its estimated trend component, estimated seasonal component, and estimated residual. We can also plot the original data to look at what components of the data influence its true value the most."
   ]
  },
  {
   "cell_type": "code",
   "execution_count": 36,
   "metadata": {},
   "outputs": [
    {
     "data": {
      "text/plain": [
       "<AxesSubplot:title={'center':'residual'}, xlabel='Date'>"
      ]
     },
     "execution_count": 36,
     "metadata": {},
     "output_type": "execute_result"
    },
    {
     "data": {
      "image/png": "[encoded data removed]",
      "text/plain": [
       "<Figure size 1440x360 with 1 Axes>"
      ]
     },
     "metadata": {
      "needs_background": "light"
     },
     "output_type": "display_data"
    },
    {
     "data": {
      "image/png": "[encoded data removed]",
      "text/plain": [
       "<Figure size 1440x360 with 1 Axes>"
      ]
     },
     "metadata": {
      "needs_background": "light"
     },
     "output_type": "display_data"
    },
    {
     "data": {
      "image/png": "[encoded data removed]",
      "text/plain": [
       "<Figure size 1440x360 with 1 Axes>"
      ]
     },
     "metadata": {
      "needs_background": "light"
     },
     "output_type": "display_data"
    },
    {
     "data": {
      "image/png": "[encoded data removed]",
      "text/plain": [
       "<Figure size 1440x360 with 1 Axes>"
      ]
     },
     "metadata": {
      "needs_background": "light"
     },
     "output_type": "display_data"
    }
   ],
   "source": [
    "multi_plot = seasonal_decompose(df_by_date_new['Weekly_Sales'], model = 'add', extrapolate_trend='freq')\n",
    "\n",
    "plt.figure(figsize=(20,5))\n",
    "multi_plot.observed.plot(title = 'weekly sales')\n",
    "\n",
    "plt.figure(figsize=(20,5))\n",
    "multi_plot.trend.plot(title = 'trend')\n",
    "\n",
    "plt.figure(figsize=(20,5))\n",
    "multi_plot.seasonal.plot(title = 'seasonal')\n",
    "\n",
    "plt.figure(figsize=(20,5))\n",
    "multi_plot.resid.plot(title = 'residual')"
   ]
  },
  {
   "cell_type": "code",
   "execution_count": 37,
   "metadata": {},
   "outputs": [],
   "source": [
    "# As it can be observed, the series is strongly influenced by the seasonal component"
   ]
  },
  {
   "cell_type": "markdown",
   "metadata": {},
   "source": [
    "### Correlations"
   ]
  },
  {
   "cell_type": "code",
   "execution_count": 38,
   "metadata": {},
   "outputs": [
    {
     "data": {
      "text/plain": [
       "<AxesSubplot:>"
      ]
     },
     "execution_count": 38,
     "metadata": {},
     "output_type": "execute_result"
    },
    {
     "data": {
      "image/png": "[encoded data removed]",
      "text/plain": [
       "<Figure size 1080x576 with 2 Axes>"
      ]
     },
     "metadata": {
      "needs_background": "light"
     },
     "output_type": "display_data"
    }
   ],
   "source": [
    "# Finding the correlations among the varibles \n",
    "plt.figure(figsize=(15,8))\n",
    "sns.heatmap(df_by_date_new.corr('spearman'), annot = True)"
   ]
  },
  {
   "cell_type": "markdown",
   "metadata": {},
   "source": [
    "strong +ve correlation b/w Fuel_Price and CPI and strong -ve correlations b/w Unmeployment and Fuel_Price and Unemployment and CPI. surprisingly, unemployment rate doesn't really seem to affect the weekly sales (directly at least)"
   ]
  },
  {
   "cell_type": "code",
   "execution_count": 54,
   "metadata": {},
   "outputs": [
    {
     "data": {
      "text/plain": [
       "<AxesSubplot:xlabel='IsHoliday', ylabel='Weekly_Sales'>"
      ]
     },
     "execution_count": 54,
     "metadata": {},
     "output_type": "execute_result"
    },
    {
     "data": {
      "image/png": "[encoded data removed]",
      "text/plain": [
       "<Figure size 720x432 with 1 Axes>"
      ]
     },
     "metadata": {
      "needs_background": "light"
     },
     "output_type": "display_data"
    }
   ],
   "source": [
    "# plotting the sales in holiday weeks\n",
    "plt.figure(figsize=(10,6))\n",
    "sns.boxplot(data = df_by_date, x = 'IsHoliday', y = 'Weekly_Sales')"
   ]
  },
  {
   "cell_type": "markdown",
   "metadata": {},
   "source": [
    "holiday weeks don't necessarily mean that the weekly sales go up but it is often the case"
   ]
  },
  {
   "cell_type": "code",
   "execution_count": 41,
   "metadata": {},
   "outputs": [
    {
     "data": {
      "text/html": [
       "<div>\n",
       "<style scoped>\n",
       "    .dataframe tbody tr th:only-of-type {\n",
       "        vertical-align: middle;\n",
       "    }\n",
       "\n",
       "    .dataframe tbody tr th {\n",
       "        vertical-align: top;\n",
       "    }\n",
       "\n",
       "    .dataframe thead th {\n",
       "        text-align: right;\n",
       "    }\n",
       "</style>\n",
       "<table border=\"1\" class=\"dataframe\">\n",
       "  <thead>\n",
       "    <tr style=\"text-align: right;\">\n",
       "      <th></th>\n",
       "      <th>Temperature</th>\n",
       "      <th>Fuel_Price</th>\n",
       "      <th>CPI</th>\n",
       "      <th>Unemployment</th>\n",
       "      <th>Weekly_Sales</th>\n",
       "      <th>IsHoliday</th>\n",
       "      <th>Type</th>\n",
       "    </tr>\n",
       "  </thead>\n",
       "  <tbody>\n",
       "    <tr>\n",
       "      <th>count</th>\n",
       "      <td>45.000000</td>\n",
       "      <td>45.000000</td>\n",
       "      <td>45.000000</td>\n",
       "      <td>45.000000</td>\n",
       "      <td>4.500000e+01</td>\n",
       "      <td>45.000000</td>\n",
       "      <td>45.000000</td>\n",
       "    </tr>\n",
       "    <tr>\n",
       "      <th>mean</th>\n",
       "      <td>60.620223</td>\n",
       "      <td>3.360718</td>\n",
       "      <td>171.595976</td>\n",
       "      <td>7.995321</td>\n",
       "      <td>1.497160e+08</td>\n",
       "      <td>0.070326</td>\n",
       "      <td>2.355556</td>\n",
       "    </tr>\n",
       "    <tr>\n",
       "      <th>std</th>\n",
       "      <td>9.806327</td>\n",
       "      <td>0.150153</td>\n",
       "      <td>39.664650</td>\n",
       "      <td>1.786202</td>\n",
       "      <td>7.816756e+07</td>\n",
       "      <td>0.000439</td>\n",
       "      <td>0.712089</td>\n",
       "    </tr>\n",
       "    <tr>\n",
       "      <th>min</th>\n",
       "      <td>39.602815</td>\n",
       "      <td>3.210664</td>\n",
       "      <td>128.663519</td>\n",
       "      <td>4.793244</td>\n",
       "      <td>3.716022e+07</td>\n",
       "      <td>0.069248</td>\n",
       "      <td>1.000000</td>\n",
       "    </tr>\n",
       "    <tr>\n",
       "      <th>25%</th>\n",
       "      <td>53.291597</td>\n",
       "      <td>3.220912</td>\n",
       "      <td>135.087130</td>\n",
       "      <td>7.004905</td>\n",
       "      <td>7.956575e+07</td>\n",
       "      <td>0.070050</td>\n",
       "      <td>2.000000</td>\n",
       "    </tr>\n",
       "    <tr>\n",
       "      <th>50%</th>\n",
       "      <td>58.413297</td>\n",
       "      <td>3.288495</td>\n",
       "      <td>186.287850</td>\n",
       "      <td>7.860290</td>\n",
       "      <td>1.382498e+08</td>\n",
       "      <td>0.070376</td>\n",
       "      <td>2.000000</td>\n",
       "    </tr>\n",
       "    <tr>\n",
       "      <th>75%</th>\n",
       "      <td>69.639935</td>\n",
       "      <td>3.443894</td>\n",
       "      <td>214.872865</td>\n",
       "      <td>8.585175</td>\n",
       "      <td>1.996139e+08</td>\n",
       "      <td>0.070598</td>\n",
       "      <td>3.000000</td>\n",
       "    </tr>\n",
       "    <tr>\n",
       "      <th>max</th>\n",
       "      <td>76.798159</td>\n",
       "      <td>3.617363</td>\n",
       "      <td>219.683641</td>\n",
       "      <td>13.116094</td>\n",
       "      <td>3.013978e+08</td>\n",
       "      <td>0.071270</td>\n",
       "      <td>3.000000</td>\n",
       "    </tr>\n",
       "  </tbody>\n",
       "</table>\n",
       "</div>"
      ],
      "text/plain": [
       "       Temperature  Fuel_Price         CPI  Unemployment  Weekly_Sales  \\\n",
       "count    45.000000   45.000000   45.000000     45.000000  4.500000e+01   \n",
       "mean     60.620223    3.360718  171.595976      7.995321  1.497160e+08   \n",
       "std       9.806327    0.150153   39.664650      1.786202  7.816756e+07   \n",
       "min      39.602815    3.210664  128.663519      4.793244  3.716022e+07   \n",
       "25%      53.291597    3.220912  135.087130      7.004905  7.956575e+07   \n",
       "50%      58.413297    3.288495  186.287850      7.860290  1.382498e+08   \n",
       "75%      69.639935    3.443894  214.872865      8.585175  1.996139e+08   \n",
       "max      76.798159    3.617363  219.683641     13.116094  3.013978e+08   \n",
       "\n",
       "       IsHoliday       Type  \n",
       "count  45.000000  45.000000  \n",
       "mean    0.070326   2.355556  \n",
       "std     0.000439   0.712089  \n",
       "min     0.069248   1.000000  \n",
       "25%     0.070050   2.000000  \n",
       "50%     0.070376   2.000000  \n",
       "75%     0.070598   3.000000  \n",
       "max     0.071270   3.000000  "
      ]
     },
     "execution_count": 41,
     "metadata": {},
     "output_type": "execute_result"
    }
   ],
   "source": [
    "# Analysis by store \n",
    "\n",
    "df_by_store = df_all.groupby('Store').agg({'Temperature': 'mean',\n",
    "                                           'Fuel_Price': 'mean',\n",
    "                                           'CPI': 'mean',\n",
    "                                           'Unemployment': 'mean', \n",
    "                                           'Weekly_Sales': 'sum',\n",
    "                                           'IsHoliday': 'mean',\n",
    "                                           'Type': 'max'})\n",
    "\n",
    "df_by_store.describe()"
   ]
  },
  {
   "cell_type": "code",
   "execution_count": 55,
   "metadata": {},
   "outputs": [
    {
     "data": {
      "image/png": "[encoded data removed]",
      "text/plain": [
       "<Figure size 720x432 with 1 Axes>"
      ]
     },
     "metadata": {
      "needs_background": "light"
     },
     "output_type": "display_data"
    }
   ],
   "source": [
    "# plotting weekly_sales by store type \n",
    "\n",
    "plt.figure(figsize=(10,6))\n",
    "sns.boxplot(data = df_by_store, x = 'Type', y = 'Weekly_Sales')\n",
    "plt.tight_layout()"
   ]
  },
  {
   "cell_type": "code",
   "execution_count": 44,
   "metadata": {},
   "outputs": [
    {
     "data": {
      "image/png": "[encoded data removed]",
      "text/plain": [
       "<Figure size 1080x576 with 1 Axes>"
      ]
     },
     "metadata": {
      "needs_background": "light"
     },
     "output_type": "display_data"
    }
   ],
   "source": [
    "# Net monthly sales\n",
    "\n",
    "monthly_sales = df_all.groupby(df_all.Date.dt.month).agg({'Weekly_Sales':'sum'})\n",
    "plt.figure(figsize = (15,8))\n",
    "sns.barplot(x = monthly_sales.index, y = monthly_sales.Weekly_Sales)\n",
    "plt.show()"
   ]
  },
  {
   "cell_type": "code",
   "execution_count": 45,
   "metadata": {},
   "outputs": [
    {
     "data": {
      "text/html": [
       "<div>\n",
       "<style scoped>\n",
       "    .dataframe tbody tr th:only-of-type {\n",
       "        vertical-align: middle;\n",
       "    }\n",
       "\n",
       "    .dataframe tbody tr th {\n",
       "        vertical-align: top;\n",
       "    }\n",
       "\n",
       "    .dataframe thead th {\n",
       "        text-align: right;\n",
       "    }\n",
       "</style>\n",
       "<table border=\"1\" class=\"dataframe\">\n",
       "  <thead>\n",
       "    <tr style=\"text-align: right;\">\n",
       "      <th></th>\n",
       "      <th>Dept</th>\n",
       "      <th>Weekly_Sales</th>\n",
       "    </tr>\n",
       "  </thead>\n",
       "  <tbody>\n",
       "    <tr>\n",
       "      <th>0</th>\n",
       "      <td>1</td>\n",
       "      <td>1.236388e+08</td>\n",
       "    </tr>\n",
       "    <tr>\n",
       "      <th>1</th>\n",
       "      <td>2</td>\n",
       "      <td>2.806112e+08</td>\n",
       "    </tr>\n",
       "    <tr>\n",
       "      <th>2</th>\n",
       "      <td>3</td>\n",
       "      <td>7.589245e+07</td>\n",
       "    </tr>\n",
       "    <tr>\n",
       "      <th>3</th>\n",
       "      <td>4</td>\n",
       "      <td>1.671467e+08</td>\n",
       "    </tr>\n",
       "    <tr>\n",
       "      <th>4</th>\n",
       "      <td>5</td>\n",
       "      <td>1.356074e+08</td>\n",
       "    </tr>\n",
       "    <tr>\n",
       "      <th>...</th>\n",
       "      <td>...</td>\n",
       "      <td>...</td>\n",
       "    </tr>\n",
       "    <tr>\n",
       "      <th>76</th>\n",
       "      <td>95</td>\n",
       "      <td>4.493202e+08</td>\n",
       "    </tr>\n",
       "    <tr>\n",
       "      <th>77</th>\n",
       "      <td>96</td>\n",
       "      <td>7.383392e+07</td>\n",
       "    </tr>\n",
       "    <tr>\n",
       "      <th>78</th>\n",
       "      <td>97</td>\n",
       "      <td>8.949651e+07</td>\n",
       "    </tr>\n",
       "    <tr>\n",
       "      <th>79</th>\n",
       "      <td>98</td>\n",
       "      <td>3.982892e+07</td>\n",
       "    </tr>\n",
       "    <tr>\n",
       "      <th>80</th>\n",
       "      <td>99</td>\n",
       "      <td>3.581499e+05</td>\n",
       "    </tr>\n",
       "  </tbody>\n",
       "</table>\n",
       "<p>81 rows × 2 columns</p>\n",
       "</div>"
      ],
      "text/plain": [
       "    Dept  Weekly_Sales\n",
       "0      1  1.236388e+08\n",
       "1      2  2.806112e+08\n",
       "2      3  7.589245e+07\n",
       "3      4  1.671467e+08\n",
       "4      5  1.356074e+08\n",
       "..   ...           ...\n",
       "76    95  4.493202e+08\n",
       "77    96  7.383392e+07\n",
       "78    97  8.949651e+07\n",
       "79    98  3.982892e+07\n",
       "80    99  3.581499e+05\n",
       "\n",
       "[81 rows x 2 columns]"
      ]
     },
     "execution_count": 45,
     "metadata": {},
     "output_type": "execute_result"
    }
   ],
   "source": [
    "# Analysis by department\n",
    "df_by_dept = df_all.groupby('Dept', as_index=False).agg({'Weekly_Sales':'sum'})\n",
    "df_by_dept"
   ]
  },
  {
   "cell_type": "code",
   "execution_count": 46,
   "metadata": {},
   "outputs": [
    {
     "data": {
      "text/html": [
       "<div>\n",
       "<style scoped>\n",
       "    .dataframe tbody tr th:only-of-type {\n",
       "        vertical-align: middle;\n",
       "    }\n",
       "\n",
       "    .dataframe tbody tr th {\n",
       "        vertical-align: top;\n",
       "    }\n",
       "\n",
       "    .dataframe thead th {\n",
       "        text-align: right;\n",
       "    }\n",
       "</style>\n",
       "<table border=\"1\" class=\"dataframe\">\n",
       "  <thead>\n",
       "    <tr style=\"text-align: right;\">\n",
       "      <th></th>\n",
       "      <th>Dept</th>\n",
       "      <th>Weekly_Sales</th>\n",
       "    </tr>\n",
       "  </thead>\n",
       "  <tbody>\n",
       "    <tr>\n",
       "      <th>0</th>\n",
       "      <td>92</td>\n",
       "      <td>4.839433e+08</td>\n",
       "    </tr>\n",
       "    <tr>\n",
       "      <th>1</th>\n",
       "      <td>95</td>\n",
       "      <td>4.493202e+08</td>\n",
       "    </tr>\n",
       "    <tr>\n",
       "      <th>2</th>\n",
       "      <td>38</td>\n",
       "      <td>3.931181e+08</td>\n",
       "    </tr>\n",
       "    <tr>\n",
       "      <th>3</th>\n",
       "      <td>72</td>\n",
       "      <td>3.057252e+08</td>\n",
       "    </tr>\n",
       "    <tr>\n",
       "      <th>4</th>\n",
       "      <td>90</td>\n",
       "      <td>2.910685e+08</td>\n",
       "    </tr>\n",
       "    <tr>\n",
       "      <th>...</th>\n",
       "      <td>...</td>\n",
       "      <td>...</td>\n",
       "    </tr>\n",
       "    <tr>\n",
       "      <th>76</th>\n",
       "      <td>51</td>\n",
       "      <td>3.057283e+04</td>\n",
       "    </tr>\n",
       "    <tr>\n",
       "      <th>77</th>\n",
       "      <td>78</td>\n",
       "      <td>1.714710e+03</td>\n",
       "    </tr>\n",
       "    <tr>\n",
       "      <th>78</th>\n",
       "      <td>39</td>\n",
       "      <td>1.779800e+02</td>\n",
       "    </tr>\n",
       "    <tr>\n",
       "      <th>79</th>\n",
       "      <td>43</td>\n",
       "      <td>1.432000e+01</td>\n",
       "    </tr>\n",
       "    <tr>\n",
       "      <th>80</th>\n",
       "      <td>47</td>\n",
       "      <td>-4.962930e+03</td>\n",
       "    </tr>\n",
       "  </tbody>\n",
       "</table>\n",
       "<p>81 rows × 2 columns</p>\n",
       "</div>"
      ],
      "text/plain": [
       "    Dept  Weekly_Sales\n",
       "0     92  4.839433e+08\n",
       "1     95  4.493202e+08\n",
       "2     38  3.931181e+08\n",
       "3     72  3.057252e+08\n",
       "4     90  2.910685e+08\n",
       "..   ...           ...\n",
       "76    51  3.057283e+04\n",
       "77    78  1.714710e+03\n",
       "78    39  1.779800e+02\n",
       "79    43  1.432000e+01\n",
       "80    47 -4.962930e+03\n",
       "\n",
       "[81 rows x 2 columns]"
      ]
     },
     "execution_count": 46,
     "metadata": {},
     "output_type": "execute_result"
    }
   ],
   "source": [
    "# Sorting weekly sales by department to see the top departemnt \n",
    "\n",
    "df_by_dept.sort_values(by = 'Weekly_Sales', ascending = False, inplace = True)\n",
    "\n",
    "df_by_dept.reset_index(drop=True, inplace=True)\n",
    "\n",
    "df_by_dept\n"
   ]
  },
  {
   "cell_type": "code",
   "execution_count": 47,
   "metadata": {},
   "outputs": [
    {
     "data": {
      "image/png": "[encoded data removed]",
      "text/plain": [
       "<Figure size 432x288 with 1 Axes>"
      ]
     },
     "metadata": {
      "needs_background": "light"
     },
     "output_type": "display_data"
    }
   ],
   "source": [
    "# Plotting top 5 departemnt \n",
    "\n",
    "sns.barplot(y='Weekly_Sales', x='Dept', data=df_by_dept[:5]);"
   ]
  },
  {
   "cell_type": "markdown",
   "metadata": {},
   "source": [
    "## Forecasting using the Holt-Winter model"
   ]
  },
  {
   "cell_type": "markdown",
   "metadata": {},
   "source": [
    "Exponential smoothing is a technique for smoothening time series data by giving different weights which are exponentially decreasing over time, unlike simple moving average method which assigns equal weightage to all observations. Holt Winters exponential smoothening applies exponential smoothing three times, usually done when high frequency signal has to be removed."
   ]
  },
  {
   "cell_type": "code",
   "execution_count": 48,
   "metadata": {},
   "outputs": [],
   "source": [
    "from statsmodels.tsa.holtwinters import ExponentialSmoothing"
   ]
  },
  {
   "cell_type": "code",
   "execution_count": 49,
   "metadata": {},
   "outputs": [
    {
     "name": "stderr",
     "output_type": "stream",
     "text": [
      "C:\\Users\\Rabbil\\anaconda3\\lib\\site-packages\\statsmodels\\tsa\\holtwinters\\model.py:429: FutureWarning: After 0.13 initialization must be handled at model creation\n",
      "  FutureWarning,\n",
      "C:\\Users\\Rabbil\\anaconda3\\lib\\site-packages\\statsmodels\\tsa\\holtwinters\\model.py:922: ConvergenceWarning: Optimization failed to converge. Check mle_retvals.\n",
      "  ConvergenceWarning,\n"
     ]
    },
    {
     "data": {
      "text/plain": [
       "2012-04-29    4.408942e+07\n",
       "2012-05-06    4.817760e+07\n",
       "2012-05-13    4.566087e+07\n",
       "2012-05-20    4.433041e+07\n",
       "2012-05-27    4.572858e+07\n",
       "2012-06-03    4.722452e+07\n",
       "2012-06-10    4.775316e+07\n",
       "2012-06-17    4.767476e+07\n",
       "2012-06-24    4.613555e+07\n",
       "2012-07-01    4.355716e+07\n",
       "2012-07-08    4.767521e+07\n",
       "2012-07-15    4.591669e+07\n",
       "2012-07-22    4.553187e+07\n",
       "2012-07-29    4.402422e+07\n",
       "2012-08-05    4.698084e+07\n",
       "2012-08-12    4.693513e+07\n",
       "2012-08-19    4.699070e+07\n",
       "2012-08-26    4.727584e+07\n",
       "2012-09-02    4.675870e+07\n",
       "2012-09-09    4.680289e+07\n",
       "2012-09-16    4.888037e+07\n",
       "2012-09-23    4.221776e+07\n",
       "2012-09-30    4.214340e+07\n",
       "2012-10-07    4.712165e+07\n",
       "2012-10-14    4.449558e+07\n",
       "2012-10-21    4.524869e+07\n",
       "2012-10-28    4.520996e+07\n",
       "2012-11-04    4.567486e+07\n",
       "2012-11-11    4.764565e+07\n",
       "2012-11-18    4.568688e+07\n",
       "2012-11-25    6.583377e+07\n",
       "2012-12-02    4.562485e+07\n",
       "2012-12-09    4.553103e+07\n",
       "2012-12-16    5.954812e+07\n",
       "Freq: W-SUN, dtype: float64"
      ]
     },
     "execution_count": 49,
     "metadata": {},
     "output_type": "execute_result"
    }
   ],
   "source": [
    "# Fit the model\n",
    "# Train and test the model on 2012 year data \n",
    "fit_model = ExponentialSmoothing(df_by_date_new['Weekly_Sales'][:120],\n",
    "                                 trend = 'add',\n",
    "                                 seasonal = 'add',\n",
    "                                 seasonal_periods = 52).fit()\n",
    "\n",
    "# predict the data\n",
    "prediction = fit_model.forecast(34)\n",
    "prediction"
   ]
  },
  {
   "cell_type": "code",
   "execution_count": 50,
   "metadata": {},
   "outputs": [
    {
     "data": {
      "image/png": "[encoded data removed]",
      "text/plain": [
       "<Figure size 1440x720 with 1 Axes>"
      ]
     },
     "metadata": {
      "needs_background": "light"
     },
     "output_type": "display_data"
    }
   ],
   "source": [
    "# plotting the actual vs predictions\n",
    "plt.figure(figsize=(20,10))\n",
    "plt.plot(df_by_date_new.index[120:], prediction, label = 'predicted')\n",
    "plt.plot(df_by_date_new.index[120:], df_by_date_new.Weekly_Sales[120:], label = 'actual')\n",
    "plt.legend()"
   ]
  },
  {
   "cell_type": "code",
   "execution_count": 51,
   "metadata": {},
   "outputs": [
    {
     "name": "stdout",
     "output_type": "stream",
     "text": [
      "Mean Absolute Percentage Error = 5.049223519524804%\n"
     ]
    }
   ],
   "source": [
    "# printing the model accuracy\n",
    "\n",
    "def mean_absolute_percentage_error(y_true, y_pred): \n",
    "    return np.mean(np.abs((y_true - y_pred) / y_true)) * 100\n",
    "print(\"Mean Absolute Percentage Error = {a}%\".format(a=mean_absolute_percentage_error(df_by_date_new.Weekly_Sales[120:],prediction)))"
   ]
  },
  {
   "cell_type": "markdown",
   "metadata": {},
   "source": [
    "## Forecasting on 2013 sales data"
   ]
  },
  {
   "cell_type": "code",
   "execution_count": 67,
   "metadata": {},
   "outputs": [
    {
     "name": "stderr",
     "output_type": "stream",
     "text": [
      "C:\\Users\\Rabbil\\anaconda3\\lib\\site-packages\\statsmodels\\tsa\\holtwinters\\model.py:922: ConvergenceWarning: Optimization failed to converge. Check mle_retvals.\n",
      "  ConvergenceWarning,\n"
     ]
    },
    {
     "data": {
      "text/plain": [
       "2012-12-09    4.534679e+07\n",
       "2012-12-16    5.961971e+07\n",
       "2012-12-23    7.710915e+07\n",
       "2012-12-30    4.390688e+07\n",
       "2013-01-06    4.645471e+07\n",
       "2013-01-13    4.113835e+07\n",
       "2013-01-20    4.125951e+07\n",
       "2013-01-27    3.945413e+07\n",
       "2013-02-03    4.633575e+07\n",
       "2013-02-10    4.881627e+07\n",
       "2013-02-17    4.898937e+07\n",
       "2013-02-24    4.448937e+07\n",
       "2013-03-03    4.581386e+07\n",
       "2013-03-10    4.622648e+07\n",
       "2013-03-17    4.554279e+07\n",
       "2013-03-24    4.362269e+07\n",
       "2013-03-31    4.483996e+07\n",
       "2013-04-07    4.637862e+07\n",
       "2013-04-14    4.574506e+07\n",
       "2013-04-21    4.487215e+07\n",
       "2013-04-28    4.306576e+07\n",
       "2013-05-05    4.684353e+07\n",
       "2013-05-12    4.627643e+07\n",
       "2013-05-19    4.535822e+07\n",
       "2013-05-26    4.647877e+07\n",
       "2013-06-02    4.453537e+07\n",
       "2013-06-09    5.031685e+07\n",
       "2013-06-16    4.714808e+07\n",
       "2013-06-23    4.620965e+07\n",
       "2013-06-30    4.489704e+07\n",
       "2013-07-07    4.615667e+07\n",
       "2013-07-14    4.573147e+07\n",
       "2013-07-21    4.469827e+07\n",
       "2013-07-28    4.288439e+07\n",
       "2013-08-04    4.774060e+07\n",
       "2013-08-11    4.765251e+07\n",
       "2013-08-18    4.590399e+07\n",
       "2013-08-25    4.599340e+07\n",
       "2013-09-01    4.572641e+07\n",
       "2013-09-08    4.600227e+07\n",
       "2013-09-15    4.379661e+07\n",
       "2013-09-22    4.256959e+07\n",
       "2013-09-29    4.218801e+07\n",
       "2013-10-06    4.793384e+07\n",
       "2013-10-13    4.548174e+07\n",
       "2013-10-20    4.362780e+07\n",
       "2013-10-27    4.396827e+07\n",
       "2013-11-03    4.526519e+07\n",
       "2013-11-10    4.556129e+07\n",
       "2013-11-17    4.457894e+07\n",
       "2013-11-24    4.955498e+07\n",
       "2013-12-01    4.482776e+07\n",
       "2013-12-08    4.459111e+07\n",
       "2013-12-15    5.886404e+07\n",
       "2013-12-22    7.635347e+07\n",
       "2013-12-29    4.315120e+07\n",
       "Freq: W-SUN, dtype: float64"
      ]
     },
     "execution_count": 67,
     "metadata": {},
     "output_type": "execute_result"
    }
   ],
   "source": [
    "fit_model = ExponentialSmoothing(df_by_date_new['Weekly_Sales'][:-2],\n",
    "                                 trend = 'add',\n",
    "                                 seasonal = 'add',\n",
    "                                 seasonal_periods = 52).fit()\n",
    "\n",
    "future_prediction = fit_model.forecast(56)\n",
    "future_prediction"
   ]
  },
  {
   "cell_type": "code",
   "execution_count": 53,
   "metadata": {},
   "outputs": [
    {
     "data": {
      "text/plain": [
       "<matplotlib.legend.Legend at 0x20043ce7308>"
      ]
     },
     "execution_count": 53,
     "metadata": {},
     "output_type": "execute_result"
    },
    {
     "data": {
      "image/png": "[encoded data removed]",
      "text/plain": [
       "<Figure size 1440x720 with 1 Axes>"
      ]
     },
     "metadata": {
      "needs_background": "light"
     },
     "output_type": "display_data"
    }
   ],
   "source": [
    "# Plotting the forecast \n",
    "\n",
    "plt.figure(figsize=(20, 10))\n",
    "plt.plot(df_by_date_new.index, df_by_date_new.Weekly_Sales)\n",
    "plt.plot(future_prediction, '--')\n",
    "plt.legend(['2010-2012 actual', '2013 forecast'])"
   ]
  },
  {
   "cell_type": "code",
   "execution_count": null,
   "metadata": {},
   "outputs": [],
   "source": []
  }
 ],
 "metadata": {
  "kernelspec": {
   "display_name": "Python 3",
   "language": "python",
   "name": "python3"
  },
  "language_info": {
   "codemirror_mode": {
    "name": "ipython",
    "version": 3
   },
   "file_extension": ".py",
   "mimetype": "text/x-python",
   "name": "python",
   "nbconvert_exporter": "python",
   "pygments_lexer": "ipython3",
   "version": "3.7.9"
  }
 },
 "nbformat": 4,
 "nbformat_minor": 4
}
